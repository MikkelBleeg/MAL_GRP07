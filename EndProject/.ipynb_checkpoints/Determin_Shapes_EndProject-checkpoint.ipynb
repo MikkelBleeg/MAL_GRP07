{
 "cells": [
  {
   "cell_type": "markdown",
   "metadata": {},
   "source": [
    "# MAL Determin shapes\n"
   ]
  },
  {
   "cell_type": "markdown",
   "metadata": {},
   "source": [
    "## Problem description\n",
    "TODO: hvilket problem førsøger i at løse med ML?\n",
    "\n",
    "\n",
    "Our project is about detecting and clasifying four different shapes. The shapes we want to detect is Squares, Triangels, Circles and Stars. \n",
    "\n"
   ]
  },
  {
   "cell_type": "markdown",
   "metadata": {},
   "source": [
    "## The dataset\n",
    "TODO: hvilke data arbejder i med, hvilke features, hvor stammer det fra osv. (tag udgangspunkt i jeres aflevering \"L03 Beskrivelse af eget slutprojekt\" i O1).\n"
   ]
  },
  {
   "cell_type": "markdown",
   "metadata": {},
   "source": [
    "### Loading the Shape dataset"
   ]
  },
  {
   "cell_type": "code",
   "execution_count": 1,
   "metadata": {},
   "outputs": [],
   "source": [
    "import cv2\n",
    "import numpy as np\n",
    "import glob\n",
    "import os\n",
    "import matplotlib\n",
    "import matplotlib.pyplot as plt"
   ]
  },
  {
   "cell_type": "code",
   "execution_count": 2,
   "metadata": {},
   "outputs": [
    {
     "name": "stdout",
     "output_type": "stream",
     "text": [
      "Star:  (3765, 200, 200)\n",
      "Circle:  (3720, 200, 200)\n",
      "Triangle:  (3720, 200, 200)\n",
      "Square:  (3765, 200, 200)\n",
<<<<<<< .merge_file_a14356
      "OK, Load time=8.9\n"
=======
      "OK, Load time=9.8\n"
>>>>>>> .merge_file_a05772
     ]
    }
   ],
   "source": [
    "#TODO load the dataset:\n",
    "import sys,os\n",
    "from time import time\n",
    "sys.path.append(os.path.expanduser('ProjectFunctions'))\n",
    "from ProjectFunctions import LoadShapes as LS\n",
    "\n",
    "\n",
    "#def getStar():\n",
    "#    imageList = glob.glob('DataSet/star/*.png')\n",
    "#    x  = np.array([np.array(Image.open(fname)) for fname in imageList])\n",
    "#    return x\n",
    "\n",
    "start = time()\n",
    "\n",
    "star = LS.getStar()\n",
<<<<<<< .merge_file_a14356
    "x, y = LS.getShapes()\n",
    "\n",
    "\n",
=======
>>>>>>> .merge_file_a05772
    "print(\"Star: \", star.shape)\n",
    "\n",
    "circle = LS.getCircle()\n",
    "print(\"Circle: \", circle.shape)\n",
    "\n",
    "triangle= LS.getTriangle()\n",
    "print(\"Triangle: \", triangle.shape)\n",
    "\n",
    "square = LS.getSquare()\n",
    "print(\"Square: \", square.shape)\n",
    "\n",
    "t = time()-start\n",
    "print(f\"OK, Load time={t:0.1f}\")"
   ]
  },
  {
   "cell_type": "code",
   "execution_count": null,
   "metadata": {},
   "outputs": [],
   "source": [
    "import pylab as pult\n",
    "from PIL import Image\n",
    "import cv2\n",
    "\n",
    "size = LS.getCircle().shape[0]\n",
    "    \n",
    "star = LS.getStar()[:size]\n",
    "circle = LS.getCircle()[:size]\n",
    "square = LS.getSquare()[:size]\n",
    "triangle = LS.getTriangle()[:size]\n",
    "    \n",
    "X = np.concatenate((star, circle, square, triangle))\n",
    "y = np.concatenate((LS.get_yStar(), LS.get_yTriangle(), LS.get_yCircle(), LS.get_ySquare()))\n",
    "\n",
    "\n"
   ]
  },
  {
   "cell_type": "code",
<<<<<<< .merge_file_a14356
   "execution_count": 7,
   "metadata": {},
   "outputs": [
    {
     "name": "stdout",
     "output_type": "stream",
     "text": [
      "Star\n",
      "3720\n"
=======
   "execution_count": 28,
   "metadata": {},
   "outputs": [
    {
     "ename": "ValueError",
     "evalue": "all the input array dimensions except for the concatenation axis must match exactly",
     "output_type": "error",
     "traceback": [
      "\u001b[1;31m---------------------------------------------------------------------------\u001b[0m",
      "\u001b[1;31mValueError\u001b[0m                                Traceback (most recent call last)",
      "\u001b[1;32m<ipython-input-28-7ff8cc4e3aec>\u001b[0m in \u001b[0;36m<module>\u001b[1;34m\u001b[0m\n\u001b[1;32m----> 1\u001b[1;33m \u001b[0mx\u001b[0m\u001b[1;33m,\u001b[0m \u001b[0my\u001b[0m \u001b[1;33m=\u001b[0m \u001b[0mLS\u001b[0m\u001b[1;33m.\u001b[0m\u001b[0mgetShapes\u001b[0m\u001b[1;33m(\u001b[0m\u001b[1;33m)\u001b[0m\u001b[1;33m\u001b[0m\u001b[1;33m\u001b[0m\u001b[0m\n\u001b[0m",
      "\u001b[1;32m~\\OneDrive\\ElectricalEnginering\\6_semester\\MAL - Machine learning\\MAL_GRP07_GIT\\EndProject\\ProjectFunctions\\LoadShapes.py\u001b[0m in \u001b[0;36mgetShapes\u001b[1;34m()\u001b[0m\n\u001b[0;32m     60\u001b[0m     \u001b[0msize\u001b[0m \u001b[1;33m=\u001b[0m \u001b[0mgetCircle\u001b[0m\u001b[1;33m(\u001b[0m\u001b[1;33m)\u001b[0m\u001b[1;33m.\u001b[0m\u001b[0mshape\u001b[0m\u001b[1;33m[\u001b[0m\u001b[1;36m0\u001b[0m\u001b[1;33m]\u001b[0m\u001b[1;33m\u001b[0m\u001b[1;33m\u001b[0m\u001b[0m\n\u001b[0;32m     61\u001b[0m \u001b[1;33m\u001b[0m\u001b[0m\n\u001b[1;32m---> 62\u001b[1;33m     \u001b[0mstar\u001b[0m \u001b[1;33m=\u001b[0m \u001b[0mgetStar\u001b[0m\u001b[1;33m(\u001b[0m\u001b[1;33m)\u001b[0m\u001b[1;33m[\u001b[0m\u001b[1;33m:\u001b[0m\u001b[0msize\u001b[0m\u001b[1;33m]\u001b[0m\u001b[1;33m\u001b[0m\u001b[1;33m\u001b[0m\u001b[0m\n\u001b[0m\u001b[0;32m     63\u001b[0m     \u001b[0mcircle\u001b[0m \u001b[1;33m=\u001b[0m \u001b[0mgetCircle\u001b[0m\u001b[1;33m(\u001b[0m\u001b[1;33m)\u001b[0m\u001b[1;33m[\u001b[0m\u001b[1;33m:\u001b[0m\u001b[0msize\u001b[0m\u001b[1;33m]\u001b[0m\u001b[1;33m\u001b[0m\u001b[1;33m\u001b[0m\u001b[0m\n\u001b[0;32m     64\u001b[0m     \u001b[0msquare\u001b[0m \u001b[1;33m=\u001b[0m \u001b[0mgetSquare\u001b[0m\u001b[1;33m(\u001b[0m\u001b[1;33m)\u001b[0m\u001b[1;33m[\u001b[0m\u001b[1;33m:\u001b[0m\u001b[0msize\u001b[0m\u001b[1;33m]\u001b[0m\u001b[1;33m\u001b[0m\u001b[1;33m\u001b[0m\u001b[0m\n",
      "\u001b[1;32m~\\Anaconda3\\lib\\site-packages\\numpy\\core\\shape_base.py\u001b[0m in \u001b[0;36mvstack\u001b[1;34m(tup)\u001b[0m\n\u001b[0;32m    281\u001b[0m     \"\"\"\n\u001b[0;32m    282\u001b[0m     \u001b[0m_warn_for_nonsequence\u001b[0m\u001b[1;33m(\u001b[0m\u001b[0mtup\u001b[0m\u001b[1;33m)\u001b[0m\u001b[1;33m\u001b[0m\u001b[1;33m\u001b[0m\u001b[0m\n\u001b[1;32m--> 283\u001b[1;33m     \u001b[1;32mreturn\u001b[0m \u001b[0m_nx\u001b[0m\u001b[1;33m.\u001b[0m\u001b[0mconcatenate\u001b[0m\u001b[1;33m(\u001b[0m\u001b[1;33m[\u001b[0m\u001b[0matleast_2d\u001b[0m\u001b[1;33m(\u001b[0m\u001b[0m_m\u001b[0m\u001b[1;33m)\u001b[0m \u001b[1;32mfor\u001b[0m \u001b[0m_m\u001b[0m \u001b[1;32min\u001b[0m \u001b[0mtup\u001b[0m\u001b[1;33m]\u001b[0m\u001b[1;33m,\u001b[0m \u001b[1;36m0\u001b[0m\u001b[1;33m)\u001b[0m\u001b[1;33m\u001b[0m\u001b[1;33m\u001b[0m\u001b[0m\n\u001b[0m\u001b[0;32m    284\u001b[0m \u001b[1;33m\u001b[0m\u001b[0m\n\u001b[0;32m    285\u001b[0m \u001b[1;33m\u001b[0m\u001b[0m\n",
      "\u001b[1;31mValueError\u001b[0m: all the input array dimensions except for the concatenation axis must match exactly"
>>>>>>> .merge_file_a05772
     ]
    }
   ],
   "source": [
<<<<<<< .merge_file_a14356
    "y=LS.get_yStar()\n",
    "print(y[1])\n",
    "ylist=[]\n",
    "for i in range(len(y)):\n",
    "    ylist.append(y[i])\n",
    "    \n",
    "print(len(ylist))"
=======
    "x, y = LS.getShapes()"
>>>>>>> .merge_file_a05772
   ]
  },
  {
   "cell_type": "code",
<<<<<<< .merge_file_a14356
   "execution_count": 3,
   "metadata": {},
   "outputs": [],
   "source": []
  },
  {
   "cell_type": "code",
   "execution_count": null,
   "metadata": {},
   "outputs": [],
=======
   "execution_count": 10,
   "metadata": {},
   "outputs": [
    {
     "data": {
      "image/png": "iVBORw0KGgoAAAANSUhEUgAAAMgAAADICAAAAACIM/FCAAAE4ElEQVR4nO2cX2iVZRzHv2ebJm3KdvyTlWdNywlmWS40xKR/UGSS3VQEg5KtpAlB1LqJuoioLrrUKILRZYI3MUlKBPsneWF1Y5iBuQWxWHMFtj91eLuI6Rlz55zfn8d9O/t9bnbYnt/7ez57n/f58573eXMZaoO6ua6AFyHCRoiwESJshAgbIcJGiLARImyECBshwkaIsBEibIQIGyHCRoiwESJshAgbIcJGiLARImyECBshwkaIsFEzIg2Jj/9N98WP2/anTJRL8bzW5MjUp1XF0t8fa0fzogT5AABZAr6YPV3PRIqEWZalaFpdv8z+t33DCwF0PO+eNEXTavyrUolFzcfbnJO6ioxdXX3ZwqEbljim9uu19k8Ak4Lyg7fu3oCtW7zS+52RllFF0OuvOGV3E+l75h9NWF3d3y7p4SWSU0ceXXGzRwV8rpFDX+lj733sI4cawOOMFO8cHDKE59dg9QFrHWAXGR8rLrfWYd3xpgXWY1hnv6NdebMHTuePmI9hPSPf3W6vAoAHC+9bD8EhApgvVVvTWunlgVzuY9sBLN3vj0cqzg4FPGI7KRaREz2m1L7om9bWpi7HegBo6q5cZnbUIueGL0xYEs/kwgevWWZe2qVlr5tACUP6pW7N3A7Sioyppu2VGNe3Vu2AqJ+4l2V1/3plJFnTOtt5WhlJJoKTZW4llYVNRI1uZP9U+3+rzOGBp3WBqk77Id/KTyP3Vo2MI9mr72nCNE1r/NQfmlTVMjmuidKInO3QZEqMQuTJn91r4YBC5MtB/2pMI8sU8wbFFKU1tYhqBS/utb5/aVSeRcobihhpf+10h7M8hVoYRwBgUL6K5hRRECJskIqM/imNIBU5eFgaIR0QH/71pDSFik2fN8oCpCKJbjrM5HyzrDxp05ITImyECBshkhrpt5O044h0lUh7RqTQinwoLE/btGKK8n8nRNiQiuzYlKQadqQi/S8nqYYd1qb1zmJhAKlI49p6YYRYpO0p4V0BFU/slEaIRTb35aUhVwTSpiVnPos8q/xGX8DiB8QhmqeDftA+wVM1hQFxCGfTOicP0Yg03r9MESVBserRiLR+tlkRJeAFRYyuaaV9a/6Lmi91dSJLlqrCqmPpTZrdo2TPNAKo1z32ydlrKZj3ImmexDaQej+7mF2tujg6kb336eLm/TWCtm2e1bjIqmZtpPyBoikcq3+JXm1tDNfI18CO834KANCfv04batu+d81vluiZDK1QhzL1WoWOq/TBtjPSd+ZNS/h09q1T9rwAeHaGwro2MI4jt2WZ0x6lt429IMuA2L3ReACHjfku/cUcbzoGgPqRPeZjHBipXKYCDv/OlrV3APi2WLHgLGxcgOtbzLWY2/eiAAAGCh753S527Xb0u4/qR/NS3Eb2uxpQlJ7dBgDX3uOT3/MlSNvLvFfrsnhOoD3nWj2P4qDgXS+7NzjmdhV5HDgjENm5yzF3gheFvftcVcVu/Mk3rf80vr0TwCfD5Yp0AvDpqy6R5K2AwJYT5f6aImcikd9L3t4wfMvUp2Pt//1cmSBjohVi6d36hVMivdvTJAOQ7IxceVjWI2ZChI0QYSNE2AgRNkKEjRBhI0TYCBE2QoSNEGEjRNgIETZChI0QYSNE2AgRNkKEjRBhI0TYCBE2QoSNEGGjZkT+BZAVHvIDsCjHAAAAAElFTkSuQmCC\n",
      "text/plain": [
       "<PIL.Image.Image image mode=L size=200x200 at 0x1BFBF5C5908>"
      ]
     },
     "metadata": {},
     "output_type": "display_data"
    },
    {
     "data": {
      "image/png": "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\n",
      "text/plain": [
       "<Figure size 432x288 with 1 Axes>"
      ]
     },
     "metadata": {
      "needs_background": "light"
     },
     "output_type": "display_data"
    }
   ],
>>>>>>> .merge_file_a05772
   "source": [
    "starAtIndex = X[8]\n",
    "\n",
    "pult.imshow(X[8+3765])\n",
    "\n",
    "imCircle = Image.fromarray(circle[0])\n",
    "display(imCircle)"
   ]
  },
  {
   "cell_type": "code",
   "execution_count": null,
   "metadata": {},
   "outputs": [],
<<<<<<< .merge_file_a14356
=======
   "source": []
  },
  {
   "cell_type": "code",
   "execution_count": 11,
   "metadata": {},
   "outputs": [
    {
     "data": {
      "image/png": "iVBORw0KGgoAAAANSUhEUgAAAMgAAADICAAAAACIM/FCAAAEpklEQVR4nO2cTUhUURSAz5RG4EpMpEU0QyEo6MY2QbhsVSvXpm60RUGCK1dhoJsgodrMokaQcGWBLsJNkqRkuFEwmAxnKAhrZiKsYTRlWjjlvPHNc+4957x3mM63mnl6z7kf92fufXPfhPJQHZwIugJUqIg0VEQaKiINFZGGikhDRaShItJQEWmoiDRURBoqIg0VkYaKSENFpKEi0lARaaiINFREGioiDRWRhopIQ0WkoSLSUBFpVI1IjT9p4lvQ1MyawacWGevsHOPN4F/XWh4c5AzvU9cCgPV1yEzwhfd1sD8b4ovN3yJ7uwCwd/Bya48vX56bWHG2GFsanz9HFn9xRfZvsAMAQLT2EVPkEPfZ+K7kiuM9Vz52kVDJe6583GMkUnoh1MeTiFmkL8Eb/5CqWf2yivwYXT16cdXlGgGsgz1xZIQAAMR6OHKxirSvuV0NL55lyMX5gdj63vVyYocjGd8YmQi5ewBEXHscEj4Rnx+n0+n3OAY8doPpGH0+tlmrdI3loPcpeb5gutbUFHlInuk39/OYv6f2TxKnZGmR3Ehjo/d/3J6mzskyRtyXJk6o8+r0K43ARK4Qx+MQqWgt9YZ4y0s+/e6uwW5F/5heaTtFmJd81hqv/J77ZpgwL7mI59LECamIzlruDLfSxqscYpEv5XaF7ATZtUi3vKTT7zQkKcMZQSny+BZhMFMou9Z9wljG6PR7hMk64wGSrDMvUw6yMZLcyhqXyWchTLWyIFuiGCxNHFDlD3yMjM/RxAm8RajucRG1yFgnTRx7iETiCzRx7CGZtSq5/VOWXO40RR0oWmT5Hab01EiOoA4kgz2SwJUn2SniW2R5MIOMcA9dBwCCY04Es+cNEcecrD9ADnmND4HvWlmC72jzld0J8wQ92AkaBOD60wZsCGSLLE1iKwAAADOz6BBIkWg3ugZEoES+dr0iqsbDLmwE1BhBLU1KQI9VTACSgV4AK4LpWhxHSqwJfIdIhYoARFN01QDojuLKWw/2S5BI41KX0BCewZyssxahnLEKoPYlll0rfQ6RkwVLkaHPtNUAAORqXtKs1fMEU9pmN5bq53kUL4zYIVrdDtpGTpUc2HStjg7yahzwqdH+ZJ2NSAZ726Qc+yn7fbOkwY7CfIzE57cZ6lFgfqffsqT5J3uM6ZGcArYrjarpWuYiDIssCoxFQr0MtSiOb9lz/+OuJRTjWWsUAL5zHtZovzZUb1HMamNFeT/LBasNlpXI742iNy+GLSJ4cvGDRSGr1W9tS9GbtzYRPNmIbJoXwg/23sKG4HlLLToWAsrjsje/FV5kX+IChS1ahOWnEjLD7SiR+hnznEzPWC19/PdywWI7eeHygzOGRdgfzId0AmD2rmmpNtNHk/lFAAo/KQIAMFDxV3Wm9fLnxytq/qZpOl/6J6qzgP60iFcFylyX2SIe3AEAgLl159WrxmfsA2+RA+bjA4735g/vCxEBcJ5ca24yLS9GBEvVbKxURBoqIg0VkYaKSENFpKEi0lARaaiINFREGioiDRWRhopIQ0WkoSLSUBFpqIg0VEQaKiINFZGGikhDRaShItJQEWmoiDSqRuQPRtQJa2jI/DEAAAAASUVORK5CYII=\n",
      "text/plain": [
       "<PIL.Image.Image image mode=L size=200x200 at 0x1BFD1224828>"
      ]
     },
     "metadata": {},
     "output_type": "display_data"
    },
    {
     "data": {
      "image/png": "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\n",
      "text/plain": [
       "<Figure size 432x288 with 1 Axes>"
      ]
     },
     "metadata": {
      "needs_background": "light"
     },
     "output_type": "display_data"
    }
   ],
>>>>>>> .merge_file_a05772
   "source": [
    "pult.imshow(triangle[0])\n",
    "\n",
    "imTriangle = Image.fromarray(triangle[0])\n",
    "display(imTriangle)"
   ]
  },
  {
   "cell_type": "code",
<<<<<<< .merge_file_a14356
   "execution_count": null,
   "metadata": {},
   "outputs": [],
=======
   "execution_count": 12,
   "metadata": {},
   "outputs": [
    {
     "data": {
      "image/png": "iVBORw0KGgoAAAANSUhEUgAAAMgAAADICAAAAACIM/FCAAACq0lEQVR4nO3cz0qUURzG8TNZk0YQpCAI3YAu3XgDCaFdQO0irLW2NtGFixBat6lFuAhatI26gaJVYBThQjdtXAlqKdO4UFDxT73POWfeL2ee70ac4TdzPpx3xnGYdxrtUEaX6l5AqgyhZQgtQ2gZQssQWobQMoSWIbQMoWUILUNoGULLEFqG0DKEliG0DKFlCC1DaBlCyxBahtAyhJYhtC7XvYAQQgifXoUQwt2JiJuoGTJ28GNjNYQQhmIgjeyfaZx9dsGVu8d/6Xk3qd9N7I60flxw5eJytdta27siL0TYkc8/j/2y/Ui+6zNavyWPCjvy8oV8bxkr5unXEFqG0GJBpvRRFuS9PsqCRGQILUNoGUILBnktT8Ig0/IkDKJXDER6F6X3T/J1HNa/oU5KO0I8LbaYQ8sQWobQMoRWd0MaqVeRINiO7H1VJ2GQzSfqJAwSVt6Ig7QXjb++iIN+sNPqboj/scpYdz/YfWhlrLshxTxGiEmQwYHUyzhqa0ccbCutJF37yZalFbV5h5b43M6DiM8kPIgYD/L7rzTGgzz8Lo3xIGKG0DKEliG0DKFlSL4+SFPaGT3fRqQ7+8+kJQF3RMuQjF1VhogQKUNoESHS+ygaZLjamZKdSNyRgaG0y4hPhIzfT7uM+IiPESlDMlbMi8YOPv3mrZgdac28rT6EhDz/WH2ICJEyhJYKGZ+/lnQd0amQ20/7kq4jumIOLcZ3B52scfN69SEipKmcMQaEPBhUpnCQiXuTN5S5WiFLd05f1i/tRwyk2Qyt1jlX/WM0x/mYUd+vtTB39uV1fHgz6tAafZxqGfHl/8azDlXMX3ZDaBlCyxBahtAyhJYhtAyhZQgtQ2gZQssQWobQMoSWIbQMoWUILUNoGULLEFqG0DKEliG0DKFlCK19SmSxhMP99h0AAAAASUVORK5CYII=\n",
      "text/plain": [
       "<PIL.Image.Image image mode=L size=200x200 at 0x1BFD1280B70>"
      ]
     },
     "metadata": {},
     "output_type": "display_data"
    },
    {
     "data": {
      "image/png": "iVBORw0KGgoAAAANSUhEUgAAAQEAAAD8CAYAAAB3lxGOAAAABHNCSVQICAgIfAhkiAAAAAlwSFlzAAALEgAACxIB0t1+/AAAADh0RVh0U29mdHdhcmUAbWF0cGxvdGxpYiB2ZXJzaW9uMy4xLjEsIGh0dHA6Ly9tYXRwbG90bGliLm9yZy8QZhcZAAAQSklEQVR4nO3df5DU9X3H8eeLQ8SoGVCBEEBBOLUa42mJJTpajFXRZEJsq4W2EQ0N2kptRtsJ2h86menUNBo7mVQcnDDqjKKoITIVRcK0Ohl/AYqIPzkI6skFFOOPChIP3v1jv2fXY48777t73739vB4zO/vdz353v+/v7d7rvj/29q2IwMzSNajoAsysWA4Bs8Q5BMwS5xAwS5xDwCxxDgGzxNUsBCRNk/SKpFZJ82q1HDPLR7X4nICkJuBV4CygDVgFzIyIF6u+MDPLpVZbAicDrRGxKSJ+B9wNTK/Rsswsh8E1et4xwBtlt9uAP+hu5sMOaYrx4/arUSlmBrBm3a63I2JE1/FahYAqjH1qv0PSHGAOwOFjBvP08nE1KsXMAJpGt75WabxWuwNtQPlv9VhgS/kMEbEgIiZHxOQRhzbVqAwz60mtQmAV0CxpgqQhwAxgaY2WZWY51GR3ICI6JM0FlgNNwMKIeKEWyzKzfGp1TICIWAYsq9Xzm1l1+BODZolzCJglziFgljiHgFniHAJmiXMImCXOIWCWOIeAWeIcAmaJcwiYJc4hYJY4h4BZ4hwCZolzCJglziFgljiHgFniHAJmiXMImCWuzyEgaZyk/5b0kqQXJP1dNn6dpDclrc0u51WvXDOrtjzfMdgBXBURz0g6GFgjaUV2300RcUP+8sys1vocAhHRDrRn0x9IeolS5yEzG0CqckxA0njgROCpbGiupHWSFkoaXo1lmFlt5A4BSQcB9wPfi4j3gfnARKCF0pbCjd08bo6k1ZJWv7V9d94yzKyPcoWApP0oBcCdEfFzgIjYGhG7I2IPcCulDsV7cRsys/qQ5+yAgJ8BL0XEj8vGR5fNdj6wvu/lmVmt5Tk7cCrwbeB5SWuzsWuAmZJaKHUh3gxcmqtCM6upPGcHfkXlFuRuPWY2gPgTg2aJcwiYJc4hYJY4h4BZ4hwCZolzCJglziFgljiHgFniHAJmiXMImCXOIWCWOIeAWeIcAmaJcwiYJc4hYJY4h4BZ4hwCZolzCJglziFglrg8XzQKgKTNwAfAbqAjIiZLOgS4BxhP6ctGL4yI3+ZdlplVX7W2BM6IiJaImJzdngesjIhmYGV228zqUO4tgW5MB6Zm07cD/wN8v0bLMuOq9pNYfu+UiveNPfs1Hj7mwX6uaOCoxpZAAI9IWiNpTjY2KmtY2tm4dGTXB7kNmVl9qMaWwKkRsUXSSGCFpJd786CIWAAsAJh8wtCoQh3WwM645K/2ef/Q33zImOcer3jfhi9MgWNqUVVjyB0CEbElu94maQml3oNbJY2OiPasLdm2vMux4k26869p/udnC1n2kI9W7/P+Pfu4r/nvV3PO8d9g+e/9V3WLahC5QkDSgcCgiPggmz4b+AGwFJgFXJ9dP5C30NTsio9Z8O6kQpa9cP7XGfnTvf+qTuSJff6y1avo6GDDmyP536M/4qBBQ4sup+7k3RIYBSwp9SZlMHBXRDwsaRWwWNJs4HXggpzLGZD+4TcnAvDI6599W3TnziFMmPlctUvqlZFU3qweyJoveoZHW4fx9c99VHQpdSdXCETEJuCECuPbgTPzPHcjeGjxVwEYc33j/VJZ4/AnBs0S5xAwS5xDwCxxDgGzxDkEzBLnELBk/Os/XVx0CXXJIWCWOIeAJePgu58suoS65BAwS5xDwCxxDgGzxDkEzBLnEDBLnEPALHEOAbPEOQQsKcc/9edFl1B3HAKWlMPnvlt0CXXHIWCWuD5/vZikoym1Gut0JPAvwDDgu8Bb2fg1EbGszxWaWU31OQQi4hWgBUBSE/AmsAS4BLgpIm6oSoVmVlPVakN2JrAxIl7LvnnYgPVX3FyauALOnXQKe3bsKLYgswqqdUxgBrCo7PZcSeskLZQ0vNIDkmtDtmcgfmO/pSB3CEgaAnwTuDcbmg9MpLSr0A7cWOlxEbEgIiZHxOQRhzblLcPM+qgaWwLnAs9ExFaAiNgaEbsjYg9wK6W2ZGZWp6oRAjMp2xXIeg92Oh9YX4VlmFmN5O1F+DngLODSsuF/l9RCqWX55i73mVmdyduGbAdwaJexb+eqyMz6lT8xaJY4h4BZ4hwCZolzCJglziHQXwb5R231ye9MS0rs2sUPtzcXXUZdcQhYUna/vZ2lP/ha0WXUFYeAJWfYmq185ZkLiy6jbjgE+ov/i7BudGzazPtrD+15xkQ4BPqLDwxanfI70yxxDgGzxDkE+ouPCVidcgiYJc4h0F98YNDqlN+ZZolzCPQXHxOwOuUQMEtcr0Ig6x+wTdL6srFDJK2QtCG7Hp6NS9JPJLVmvQdOqlXxZpZfb7cEbgOmdRmbB6yMiGZgZXYbSl9B3pxd5lDqQ2A+MGh1qlfvzIh4DHiny/B04PZs+nbgW2Xjd0TJk8CwLl9DbmZ1JM+fp1ER0Q6QXY/MxscAb5TN15aNJU1HjGHw2OR/DHVj8Idi2+4Piy6jLtRiG7VSR9LYa6bEehEuW3kv05a7D0u9GPtvj3POM7OLLqMu5AmBrZ2b+dn1tmy8DRhXNt9YYEvXB7sXoRVtT7iDNuQLgaXArGx6FvBA2fhF2VmCKcB7nbsNZvVkkPbaQE1SrzoQSVoETAUOk9QGXAtcDyyWNBt4Hbggm30ZcB7QCuwALqlyzWZWRb0KgYiY2c1dZ1aYN4DL8xRl1h927tqPj2M3+ynt3VGfvDZLnEPAknXEhc9zy7tHFl1G4RwCZolzCJglziFgljiHgFniHAJmiXMImCXOIWCWOIeAWeIcAmaJcwiYJc4hYJY4h4Al7cdPnVV0CYVzCFjSjvrO6qJLKJxDwCxxDgGzxDkELHnnHjml6BIK1WMIdNOC7EeSXs7ajC2RNCwbHy9pp6S12eWWWhZvZvn1ZkvgNvZuQbYC+FJEfBl4Fbi67L6NEdGSXS6rTplmVis9hkClFmQR8UhEdGQ3n6TUW8DMBqBqHBP4DvBQ2e0Jkp6V9Kik06rw/Ga1lXiz2FxrL+kfgQ7gzmyoHTg8Ik4ErgTukvT5bh6bVBsygL8d/hrbHjim6DLMPqXPISBpFvAN4C+yXgNExK6I2J5NrwE2AkdVenyqbcgmDN9O06QJRZdh9ok+hYCkacD3gW9GxI6y8RFSqZODpCOBZmBTNQo1s9rozSnCRcATwNGS2rK2Yz8FDgZWdDkVeDqwTtJzwH3AZRHxTsUnTtTPJ61g48VfKLoMs0/02IasmxZkP+tm3vuB+/MWZWb9J+3DombmEDBjz56iKyiUQ8DMnxMwS5y3BMzSFh0dHHPr3/DV5/6k6FIK4RCw5EVHB0dc+zgfPDqq6FIK4RAwS5xDwCxxDgGzxDkEzBLnECjA8X+4gdb/mELT5yv+l7VZv3IIFOC+ib9k44W3oIMPKroUM4eAWep6/C9Cs4YnMfiLo/n4wCi6kkI4BCx5gw44gAdXLSu6jMI4BCxp7VeewkcjA3i86FIK4xCwJL33l1PY+afvcd+JP+Ko/Q4supxCOQSsrr264CtceeojVX/ekw64mVOHDgLSDgDoRQhIWkjpW4W3RcSXsrHrgO8Cb2WzXRMRy7L7rgZmA7uBKyJieQ3qbgz7D2HQ0KFA6Z9YoqOjhwdUR+cyi/bQpid7MdfaGi3dJ8Y69WZL4DZKXyx6R5fxmyLihvIBSccCM4DjgC8Cv5R0VESk0VjgM3rwV7/4ZHri4suY9L3e/FLk17tfPktFb75o9DFJ43v5fNOBuyNiF/BrSa3AyZS+rdj2ofnLb9A275R+Wlqt/rraQJTnmMBcSRcBq4GrIuK3wBhKvQk7tWVj1oOHj3kQ3JzICtDXHaP5wESghVLrsRuzcVWYt+InMFJsQ2ZWj/oUAhGxNSJ2R8Qe4FZKm/xQ+ss/rmzWscCWbp4jyTZkZvWmr23IRpfdPB9Yn00vBWZI2l/SBEptyJ7OV6KZ1VJvThEuAqYCh0lqA64FpkpqobSpvxm4FCAiXpC0GHiRUrfiy31mwKy+KWsoXKjJJwyNp5eP63lGM+uzptGtayJictdxf2LCLHEOAbPEOQTMEucQMEucQ8AscQ4Bs8Q5BMwS5xAwS5xDwCxxDgGzxDkEzBLnEDBLnEPALHEOAbPEOQTMEucQMEucQ8AscQ4Bs8T1GAKSFkraJml92dg9ktZml82S1mbj4yXtLLvvlloWb2b59akNWUT8Wee0pBuB98rm3xgRLdUq0MxqK1cbMkkCLgS+Vt2yzKy/5D0mcBqwNSI2lI1NkPSspEclnZbz+c2sxvL0IgSYCSwqu90OHB4R2yX9PvALScdFxPtdHyhpDjAH4PAxecsws77q85aApMHAHwP3dI5FxK6I2J5NrwE2AkdVerzbkJnVhzy7A38EvBwRbZ0DkkZIasqmj6TUhmxTvhLNrJZ6c4pwEfAEcLSkNkmzs7tm8OldAYDTgXWSngPuAy6LiHeqWbCZVVdvzg7M7Gb84gpj9wP35y/LzPqLPzFoljiHgFniHAJmiXMImCXOIWCWOIeAWeIcAmaJcwiYJc4hYJY4h4BZ4hwCZolzCJglziFgljiHgFniHAJmiXMImCXOIWCWOIeAWeIcAmaJcwiYJc4hYJY4h4BZ4hQRRdeApLeAD4G3i66lBg6jMdcLGnfdGnW9joiIEV0H6yIEACStjojJRddRbY26XtC469ao69Ud7w6YJc4hYJa4egqBBUUXUCONul7QuOvWqOtVUd0cEzCzYtTTloCZFaDwEJA0TdIrklolzSu6nrwkbZb0vKS1klZnY4dIWiFpQ3Y9vOg6eyJpoaRtktaXjVVcD5X8JHsN10k6qbjKe9bNul0n6c3sdVsr6byy+67O1u0VSecUU3XtFBoCkpqA/wTOBY4FZko6tsiaquSMiGgpO800D1gZEc3Ayux2vbsNmNZlrLv1OBdozi5zgPn9VGNf3cbe6wZwU/a6tUTEMoDs/TgDOC57zM3Z+7ZhFL0lcDLQGhGbIuJ3wN3A9IJrqoXpwO3Z9O3AtwqspVci4jHgnS7D3a3HdOCOKHkSGCZpdP9U+tl1s27dmQ7cHRG7IuLXQCul923DKDoExgBvlN1uy8YGsgAekbRG0pxsbFREtANk1yMLqy6f7tajUV7HudnuzMKyXbZGWbduFR0CqjA20E9XnBoRJ1HaRL5c0ulFF9QPGuF1nA9MBFqAduDGbLwR1m2fig6BNmBc2e2xwJaCaqmKiNiSXW8DllDadNzauXmcXW8rrsJculuPAf86RsTWiNgdEXuAW/n/Tf4Bv249KToEVgHNkiZIGkLpAMzSgmvqM0kHSjq4cxo4G1hPaZ1mZbPNAh4opsLculuPpcBF2VmCKcB7nbsNA0WXYxjnU3rdoLRuMyTtL2kCpYOfT/d3fbU0uMiFR0SHpLnAcqAJWBgRLxRZU06jgCWSoPSzvSsiHpa0ClgsaTbwOnBBgTX2iqRFwFTgMEltwLXA9VRej2XAeZQOmu0ALun3gj+DbtZtqqQWSpv6m4FLASLiBUmLgReBDuDyiNhdRN214k8MmiWu6N0BMyuYQ8AscQ4Bs8Q5BMwS5xAwS5xDwCxxDgGzxDkEzBL3f6wumtJqg8bRAAAAAElFTkSuQmCC\n",
      "text/plain": [
       "<Figure size 432x288 with 1 Axes>"
      ]
     },
     "metadata": {
      "needs_background": "light"
     },
     "output_type": "display_data"
    }
   ],
>>>>>>> .merge_file_a05772
   "source": [
    "pult.imshow(square[0])\n",
    "\n",
    "imSquare = Image.fromarray(square[0])\n",
    "display(imSquare)"
   ]
  },
  {
   "cell_type": "markdown",
   "metadata": {},
   "source": [
    "### Categorizing the data\n",
    "Since our data comes as 4 folders with pictures."
   ]
  },
  {
   "cell_type": "code",
   "execution_count": null,
   "metadata": {},
   "outputs": [],
   "source": []
  },
  {
   "cell_type": "markdown",
   "metadata": {},
   "source": [
    "### Preparing the date for neural networks\n",
    "\n",
    "We need to change the pixel data from the range 0 - 255 to a value between 0 and 1. This is because the neurons works with step functions (in the range from 0 and 1) in the activation function step and for our data to be prossesed corrrectly in a neural network ve need to feed the network with data in the same range. "
   ]
  },
  {
   "cell_type": "code",
   "execution_count": null,
   "metadata": {},
   "outputs": [],
   "source": [
    "X1=X/255"
   ]
  },
  {
   "cell_type": "markdown",
   "metadata": {},
   "source": [
    "### Splitting the dataset "
   ]
  },
  {
   "cell_type": "code",
   "execution_count": null,
   "metadata": {},
   "outputs": [],
   "source": [
    "#TODO split the dataset:\n",
    "\n"
   ]
  },
  {
   "cell_type": "markdown",
   "metadata": {},
   "source": [
    "## Preprossing\n",
    "TODO: descripe what we think has been done to our data in the preprossing prosses."
   ]
  },
  {
   "cell_type": "markdown",
   "metadata": {},
   "source": [
    "### Running our own preprossing:"
   ]
  },
  {
   "cell_type": "code",
   "execution_count": null,
   "metadata": {},
   "outputs": [],
   "source": [
    "#TODO: try ro run a known CNN on the data and see what happens."
   ]
  },
  {
   "cell_type": "markdown",
   "metadata": {},
   "source": [
    "## ML-Algorithms\n",
    "TODO: beskriv f.eks.\n",
    "* hvilken grundliggende ML algoritmeklasse(r) valgte i (supervised/unsupervised, regression/classifikation)?\n",
    "* hvilke kriterier lå til grund for jeres model selection?\n",
    "* hvorfor er jeres valgtealgoritme god til netop jeres dataset?\n",
    "* hvad er fordele og ulemper ved den (eller de) valgte algoritme(r), f.eks. kompleksitet?"
   ]
  },
  {
   "cell_type": "markdown",
   "metadata": {},
   "source": [
    "### Classifying the data"
   ]
  },
  {
   "cell_type": "code",
   "execution_count": null,
   "metadata": {},
   "outputs": [],
   "source": [
    "#Todo run algorithms:"
   ]
  },
  {
   "cell_type": "markdown",
   "metadata": {},
   "source": [
    "## ML pipeline:\n",
    "TODO: Beskrivelse af hvordan i splitter data i train-test set, preprocessere, træner og tester."
   ]
  },
  {
   "cell_type": "code",
   "execution_count": null,
   "metadata": {},
   "outputs": [],
   "source": []
  },
  {
   "cell_type": "markdown",
   "metadata": {},
   "source": [
    "## Performance metrics:\n",
    "TODO: beskrivelse af, hvordan i måler 'effektiviteten' af jeres træning og test."
   ]
  },
  {
   "cell_type": "code",
   "execution_count": null,
   "metadata": {},
   "outputs": [],
   "source": []
  },
  {
   "cell_type": "markdown",
   "metadata": {},
   "source": [
    "## Optimeringer og forbedringer:\n",
    "TODO:  hvordan har i forbedret jeres system via optimeringsparametre (optimizers, regulizers) eller afsøgning af hyperparameterrummet? "
   ]
  },
  {
   "cell_type": "code",
   "execution_count": null,
   "metadata": {},
   "outputs": [],
   "source": []
  },
  {
   "cell_type": "markdown",
   "metadata": {},
   "source": [
    "## Under- og overfitting: \n",
    "TODO: hvordan sørger i for, at jeres system ikke under- eller overfitter på jeres data?"
   ]
  },
  {
   "cell_type": "code",
   "execution_count": null,
   "metadata": {},
   "outputs": [],
   "source": []
  },
  {
   "cell_type": "markdown",
   "metadata": {},
   "source": [
    "## Diskussion (ikke et krav)\n",
    "TODO: Diskuter hvad man ellers kunne gøre med dataen, mere data? præprossesering."
   ]
  },
  {
   "cell_type": "code",
   "execution_count": null,
   "metadata": {},
   "outputs": [],
   "source": []
  },
  {
   "cell_type": "markdown",
   "metadata": {},
   "source": [
    "## Konklussion\n",
    "TODO: Konklussionen på opgaven"
   ]
  },
  {
   "cell_type": "code",
   "execution_count": null,
   "metadata": {},
   "outputs": [],
   "source": []
  },
  {
   "cell_type": "code",
   "execution_count": null,
   "metadata": {},
   "outputs": [],
   "source": []
  },
  {
   "cell_type": "code",
   "execution_count": null,
   "metadata": {},
   "outputs": [],
   "source": []
  },
  {
   "cell_type": "code",
   "execution_count": null,
   "metadata": {},
   "outputs": [],
   "source": []
  },
  {
   "cell_type": "code",
   "execution_count": null,
   "metadata": {},
   "outputs": [],
   "source": []
  },
  {
   "cell_type": "code",
   "execution_count": null,
   "metadata": {},
   "outputs": [],
   "source": []
  },
  {
   "cell_type": "code",
   "execution_count": null,
   "metadata": {},
   "outputs": [],
   "source": []
  }
 ],
 "metadata": {
  "kernelspec": {
   "display_name": "Python 3",
   "language": "python",
   "name": "python3"
  },
  "language_info": {
   "codemirror_mode": {
    "name": "ipython",
    "version": 3
   },
   "file_extension": ".py",
   "mimetype": "text/x-python",
   "name": "python",
   "nbconvert_exporter": "python",
   "pygments_lexer": "ipython3",
   "version": "3.7.3"
  }
 },
 "nbformat": 4,
 "nbformat_minor": 2
}
