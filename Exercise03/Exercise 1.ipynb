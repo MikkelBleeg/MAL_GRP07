{
 "cells": [
  {
   "cell_type": "markdown",
   "metadata": {},
   "source": [
    "# Exercise 1\n",
    "For this exercise we will test linear regression on California Housing Dataset."
   ]
  },
  {
   "cell_type": "markdown",
   "metadata": {},
   "source": [
    "### Qa) Plot “median house value for California districts” (target value) compared to “MedInc median income in block” (first feature / input value).\n",
    "Dataset: https://scikit-learn.org/dev/datasets/index.html#california-housing-dataset <br>\n",
    "Example of linear regression: https://scikit-learn.org/dev/auto_examples/linear_model/plot_ols.html#sphx-glr-auto-examples-linear-model-plot-ols-py"
   ]
  },
  {
   "cell_type": "code",
   "execution_count": 1,
   "metadata": {},
   "outputs": [
    {
     "name": "stdout",
     "output_type": "stream",
     "text": [
      "Ok Loaded\n"
     ]
    }
   ],
   "source": [
    "import matplotlib.pyplot as plt\n",
    "import numpy as np\n",
    "from sklearn import datasets, linear_model\n",
    "from sklearn.metrics import mean_squared_error, r2_score\n",
    "from sklearn.datasets import fetch_california_housing\n",
    "\n",
    "def Fetch_cal():\n",
    "    California=fetch_california_housing(download_if_missing=False)\n",
    "    return California\n",
    "\n",
    "Cali=Fetch_cal()\n",
    "print('Ok Loaded')"
   ]
  },
  {
   "cell_type": "code",
   "execution_count": 7,
   "metadata": {},
   "outputs": [
    {
     "name": "stdout",
     "output_type": "stream",
     "text": [
      "['MedInc', 'HouseAge', 'AveRooms', 'AveBedrms', 'Population', 'AveOccup', 'Latitude', 'Longitude']\n",
      "<class 'sklearn.utils.Bunch'>\n"
     ]
    }
   ],
   "source": [
    "names = Cali.feature_names\n",
    "print(names)\n",
    "print(type(Cali))"
   ]
  },
  {
   "cell_type": "code",
   "execution_count": null,
   "metadata": {},
   "outputs": [],
   "source": []
  },
  {
   "cell_type": "code",
   "execution_count": 2,
   "metadata": {},
   "outputs": [
    {
     "name": "stdout",
     "output_type": "stream",
     "text": [
      "Coefficients: \n",
      " [0.07034814]\n",
      "Mean squared error: 0.91\n",
      "Coefficient of determination: -0.29\n"
     ]
    },
    {
     "data": {
      "image/png": "[encoded data removed]",
      "text/plain": [
       "<Figure size 432x288 with 1 Axes>"
      ]
     },
     "metadata": {},
     "output_type": "display_data"
    }
   ],
   "source": [
    "X,y=Cali.data, Cali.target\n",
    "# Use only one feature\n",
    "Housing_X = X[:, np.newaxis, 2]\n",
    "\n",
    "# Split the data into training/testing sets\n",
    "Housing_X_train = Housing_X[:-200]\n",
    "Housing_X_test = Housing_X[-200:]\n",
    "\n",
    "# Split the targets into training/testing sets\n",
    "Housing_y_train = y[:-200]\n",
    "Housing_y_test = y[-200:]\n",
    "\n",
    "Housing_regr=linear_model.LinearRegression()\n",
    "Housing_regr.fit(Housing_X_train, Housing_y_train)\n",
    "\n",
    "Housing_y_pred=Housing_regr.predict(Housing_X_test)\n",
    "\n",
    "# The coefficients\n",
    "print('Coefficients: \\n', Housing_regr.coef_)\n",
    "# The mean squared error\n",
    "print('Mean squared error: %.2f'\n",
    "      % mean_squared_error(Housing_y_test, Housing_y_pred))\n",
    "# The coefficient of determination: 1 is perfect prediction\n",
    "print('Coefficient of determination: %.2f'\n",
    "      % r2_score(Housing_y_test, Housing_y_pred))\n",
    "\n",
    "# Plot outputs\n",
    "plt.scatter(Housing_X_test, Housing_y_test,  color='black')\n",
    "plt.plot(Housing_X_test, Housing_y_pred, color='blue', linewidth=3)\n",
    "\n",
    "plt.xticks(())\n",
    "plt.yticks(())\n",
    "\n",
    "plt.show()"
   ]
  },
  {
   "cell_type": "code",
   "execution_count": 5,
   "metadata": {},
   "outputs": [
    {
     "name": "stdout",
     "output_type": "stream",
     "text": [
      "['MedInc', 'HouseAge', 'AveRooms', 'AveBedrms', 'Population', 'AveOccup', 'Latitude', 'Longitude']\n"
     ]
    }
   ],
   "source": []
  },
  {
   "cell_type": "markdown",
   "metadata": {},
   "source": [
    "### Qb) Predict the house prices from 1 feature(median income as an example)\n",
    "How big is the error(root-mean-square error). <br>\n",
    "Make a plot of residual values as a function of feature value.<br>\n",
    "Is there a link between feature value and residual?<br>\n",
    "Plot a histogram on residuals. Are the normally distributed?"
   ]
  },
  {
   "cell_type": "code",
   "execution_count": null,
   "metadata": {},
   "outputs": [],
   "source": []
  },
  {
   "cell_type": "markdown",
   "metadata": {},
   "source": [
    "### Qc) Predict the house prices from all 8 features.\n",
    "Find the root mean squared error(RMSE)\n"
   ]
  },
  {
   "cell_type": "code",
   "execution_count": null,
   "metadata": {},
   "outputs": [],
   "source": []
  }
 ],
 "metadata": {
  "kernelspec": {
   "display_name": "Python 3",
   "language": "python",
   "name": "python3"
  },
  "language_info": {
   "codemirror_mode": {
    "name": "ipython",
    "version": 3
   },
   "file_extension": ".py",
   "mimetype": "text/x-python",
   "name": "python",
   "nbconvert_exporter": "python",
   "pygments_lexer": "ipython3",
   "version": "3.7.3"
  }
 },
 "nbformat": 4,
 "nbformat_minor": 2
}
