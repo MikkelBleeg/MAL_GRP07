{
 "cells": [
  {
   "cell_type": "markdown",
   "metadata": {},
   "source": [
    "# ITMAL Exercise\n",
    "\n",
    "\n",
    "REVISIONS||\n",
    "---------||\n",
    "2018-1219| CEF, initial.                  \n",
    "2018-0207| CEF, updated.           \n",
    "2018-0207| CEF, rewritten accuracy paradox section. \n",
    "2018-0305| CEF, updated with SHN comments.\n",
    "2019-0901| CEF, updated for ITMAL v2.\n",
    "2019-0904| CEF, updated for print-f and added conclusion Q.\n",
    "\n",
    "## Performance Metrics\n",
    "\n",
    "There are a number of frequently uses metrics in ML, namely accuracy, precision, recall and the $F_1$ score. All are called _metrics_ (though they are not true norms, like ${\\cal L}_2$ or ${\\cal L}_1$ we saw last time).\n",
    "\n",
    "Maybe performance _score_ would be a better name than performance metric, at least for the accuracy, precision, recall we will be looking at---emphasising the conceptual distinction between the  _score-function_ and _cost(/loss/error/objective)-function_ (the later is typically a true distance/norm function).  \n",
    "\n",
    "You can find a lot of details on say precision and recall in Wikipedia\n",
    "\n",
    ">  https://en.wikipedia.org/wiki/Precision_and_recall\n",
    "\n",
    "\n",
    "### Nomenclature\n",
    "\n",
    "| NAME | SYMBOL | ALIAS |\n",
    "| :---: | :---: | :---: |\n",
    "|true positives | $TP$ | |\n",
    "|true negatives | $TN$ | |\n",
    "|false positives| $FP$ | type I error| \n",
    "|false negatives| $FN$ | type II error |\n",
    "\n",
    "and $N = N_P + N_N$ being the total number of samples and the number of positive and negative samples\n",
    "respectively.\n",
    "\n",
    "### Precision\n",
    "\n",
    "$$\n",
    "\\def\\by{\\mathbf{y}}\n",
    "\\def\\ba{\\begin{array}{lll}}\n",
    "\\def\\ea{\\end{array}}\n",
    "\\newcommand{\\rem}[1]{}\n",
    "\\newcommand\\st[1]{_{\\scriptsize #1}}\n",
    "\\newcommand\\myfrac[2]{\\frac{#1\\rule{0pt}{8pt}}{#2\\rule{0pt}{8pt}}} \n",
    "\\ba\n",
    " p &= \\myfrac{TP}{TP + FP}\n",
    "\\ea\n",
    "$$\n",
    "\n",
    "### Recall or Sensitivity\n",
    "\n",
    "$$\n",
    "  \\ba\n",
    "    r &= \\myfrac{TP}{TP + FN}\\\\\n",
    "      &= \\myfrac{TP}{N_P}\n",
    "  \\ea\n",
    "$$\n",
    "\n",
    "### Accuracy\n",
    "\n",
    "$$\n",
    "  \\ba\n",
    "      a &= \\myfrac{TP + TN}{TP + TN + FP + FN}\\\\\n",
    "        &= \\myfrac{TP + TN}{N}\\\\\n",
    "        &= \\myfrac{TP + TN}{N_P~~ + N_N} \n",
    "  \\ea\n",
    "$$\n",
    "\n",
    "#### Accuracy Paradox\n",
    "\n",
    "A static constant model, say $p\\st{cancer}=0$ may have higher accuracy than a real model with predictive power. This is odd!\n",
    "\n",
    "Asymmetric weight could also be associated with the false positive and false negative predictions, yielding either FP of FN much more expensive than the other. Say, it is more expensive not to treat a person with cancer, than treating a person without cancer. \n",
    "\n",
    "### F-score\n",
    "\n",
    "General $\\beta$-harmonic mean of the precision and recall \n",
    "$$\n",
    "    F_\\beta = (1+\\beta^2) \\myfrac{2pr}{\\beta^2 p+r}\\\\\n",
    "$$ \n",
    "that for say $\\beta=2$ or $\\beta=0.5$ shifts or skews the emphasis on the two variables in the equation. Normally only the $\\beta=1$ harmonic mean is used\n",
    "\n",
    "$$\n",
    "  \\ba\n",
    "    F_1 &= \\myfrac{2pr}{p+r}\\\\\n",
    "        &= \\myfrac{2}{1/p + 1/r}\n",
    "  \\ea\n",
    "$$\n",
    "with $F$ typically being synonymous with $F_1$. \n",
    "\n",
    "If needed, find more info on Wikipedia\n",
    "\n",
    "> https://en.wikipedia.org/wiki/F1_score\n",
    "\n",
    "\n",
    "## Confusion Matrix\n",
    "\n",
    "For statistical classification, the confusion matrix or error matrix (or\n",
    "matching matrix in unsupervised learning) is for a two-class problem given by\n",
    "the $2\\times2$ matrix with dimensions 'actual' and 'predicted'\n",
    "\n",
    "$$   \n",
    "{\\bf M}\\st{confusion} = \n",
    "\\begin{array}{l|ll}\n",
    "                           & \\mbox{actual true} & \\mbox{actual false} \\\\ \\hline\n",
    "    \\mbox{predicted true}  & TP & FP \\\\     \n",
    "    \\mbox{predicted false} & FN & TN \n",
    "\\end{array}\n",
    "$$\n",
    "\n",
    "The diagonal, in the square matrix, represent predicted values being the same\n",
    "as the actual values, off-diagonal elements represent erroneous prediction.\n",
    "\n",
    "Also notice, that the layout of this matrix is different of what is given in [HOML], \"Confusion Matrix\", p.86/fig 3-2. This is just a minor issue, since we can always flip/rotate/transpose the matrix (say by flipping the $\\by\\st{true}$ and $\\by\\st{pred}$ arguments). \n",
    "\n",
    "For N-class classification the matrix gives a matrix with $N$ actual\n",
    "classes and $N$ predicted classes\n",
    "\n",
    "$$\n",
    "{\\bf M}\\st{confusion}~~~ =\n",
    "  \\left[\n",
    "  \\begin{array}{llll}\n",
    "       c_{11} & c_{12} & \\cdots & c_{1n} \\\\ \n",
    "       c_{21} & c_{22} & \\cdots & c_{2n} \\\\\n",
    "       \\vdots & \\vdots & \\ddots & \\vdots \\\\\n",
    "       c_{n1} & c_{n2} & \\cdots & c_{nn} \\\\ \n",
    "  \\end{array}\n",
    "  \\right]\n",
    "$$\n",
    "with say element $c_{21}$ being the number of actual classes '1' being predicted (erroneously) as class '2'.\n",
    "\n",
    "### Nomenclature for the Confusion Matrix\n",
    "\n",
    "The naming of the elements in the confusion matrix can be rather exotic, like _false omission rate_ (see the figure below), but we won't get to such detail here...let us stick with TP, TN, FP, FN and $F_1$!\n",
    "\n",
    "<img src=\"https://itundervisning.ase.au.dk/E19_itmal/L02/Figs/performance_metrics.png\" style=\"width:900px\">\n",
    "\n",
    "If you need more info on the confusion matrix:\n",
    "\n",
    ">  https://en.wikipedia.org/wiki/Confusion_matrix\n",
    "\n",
    "#### Qa Implement the Accuracy function and test it on the MNIST data.\n",
    "\n",
    "We now follow the convention in Scikit-learn, that a score funtion takes the arguments `y_true` and then `y_pred`\n",
    "\n",
    "```\n",
    "    sklearn.metrics.accuracy_score(y_true, y_pred, ..)\n",
    "```\n",
    "\n",
    "Implement a general accuracy function `MyAccuracy(y_true, y_pred)`.\n",
    "\n",
    "Reuse your MNIST data loader and test the `MyAccuracy` function  both on your dummy classifier and on the Stochastic Gradient Descent classifier (with setup parameters as in [HOLM]).\n",
    "\n",
    "Compare your accuracy score with the acutal value from `sklearn.metrics.accuracy_score()`."
   ]
  },
  {
   "cell_type": "code",
   "execution_count": 12,
   "metadata": {},
   "outputs": [
    {
     "name": "stdout",
     "output_type": "stream",
     "text": [
      "Loadet\n"
     ]
    }
   ],
   "source": [
    "#import thisData as disData\n",
    "from sklearn.datasets import fetch_openml\n",
    "from sklearn.neural_network import MLPClassifier\n",
    "import numpy as np\n",
    "\n",
    "#Function to load MNIST data.\n",
    "def MNIST_GetDataSet():\n",
    "    # Load data from https://www.openml.org/d/554\n",
    "    X, y = fetch_openml('mnist_784', version=1 ,return_X_y=True)\n",
    "    return X,y\n",
    "\n",
    "#Fetching MNIST data from skillshare with own function.\n",
    "X,y = MNIST_GetDataSet()\n",
    "\n",
    "print('Loadet')"
   ]
  },
  {
   "cell_type": "code",
   "execution_count": 13,
   "metadata": {},
   "outputs": [],
   "source": [
    "#Defining a inxex to be used in the Data matrix\n",
    "n=0"
   ]
  },
  {
   "cell_type": "code",
   "execution_count": 14,
   "metadata": {},
   "outputs": [
    {
     "name": "stdout",
     "output_type": "stream",
     "text": [
      "X.shape=(70000, 784)\n",
      "X.shape=(70000, 784)\n",
      "y_shape= (60000,)\n"
     ]
    },
    {
     "data": {
      "text/plain": [
       "array([ True])"
      ]
     },
     "execution_count": 14,
     "metadata": {},
     "output_type": "execute_result"
    }
   ],
   "source": [
    "#Splitting the data by creating train and test data set for MINST with SGDClassifier\n",
    "from sklearn.model_selection import train_test_split\n",
    "X_train, X_test, y_train, y_test = train_test_split(X,y, test_size=50000, random_state=42, shuffle=True)\n",
    "\n",
    "#Resizing the Data array to fit 2D\n",
    "print(f\"X.shape={X.shape}\") # print X.shape= (70000, 28, 28)\n",
    "if X.ndim==3:\n",
    "    print(\"reshaping X..\")\n",
    "    assert y.ndim==1\n",
    "    X = X.reshape((X.shape[0],X.shape[1]*X.shape[2]))\n",
    "assert X.ndim==2\n",
    "print(f\"X.shape={X.shape}\") # X.shape= (70000, 784)\n",
    "\n",
    "X_train, X_test, y_train, y_test = X[:60000], X[60000:], y[:60000], y[60000:]\n",
    "\n",
    "# shuffle_index = np.random.permutation(60000)\n",
    "# X_train = X_train[shuffle_index]\n",
    "\n",
    "#Training to simple fit predict to 5\n",
    "y_train_5 = (y_train == '5')    \n",
    "y_test_5  = (y_test == '5')\n",
    "print('y_shape=', y_train_5.shape)\n",
    "\n",
    "#running the fit-predict for the classifier using the MNIST data\n",
    "from sklearn.linear_model import SGDClassifier\n",
    "\n",
    "sgd_clf = SGDClassifier(max_iter=5, tol=-np.infty, random_state=42)\n",
    "sgd_clf.fit(X_train, y_train_5)\n",
    "sgd_clf.predict([X[n]])\n"
   ]
  },
  {
   "cell_type": "code",
   "execution_count": 15,
   "metadata": {},
   "outputs": [
    {
     "name": "stdout",
     "output_type": "stream",
     "text": [
      "Ok\n"
     ]
    }
   ],
   "source": [
    "#Predicitions set to be compared when creating the confussion matrix\n",
    "from sklearn.model_selection import cross_val_predict\n",
    "y_train_pred = cross_val_predict(sgd_clf, X_train, y_train_5, cv=3)\n",
    "\n",
    "print('Ok')"
   ]
  },
  {
   "cell_type": "code",
   "execution_count": 16,
   "metadata": {},
   "outputs": [],
   "source": [
    "#Loading the confusion matrix:\n",
    "from sklearn.metrics import confusion_matrix\n",
    "\n",
    "def ConfMx(y_true, y_pred):\n",
    "    ConfMx = confusion_matrix(y_train_5, y_train_pred)\n",
    "    print('Confusion matrix:\\n',ConfMx,'\\n')\n",
    "\n",
    "    #Finding the false and true positives and negatives\n",
    "    TP = ConfMx[0,0]\n",
    "    FP = ConfMx[0,1]\n",
    "    FN = ConfMx[1,0]\n",
    "    TN = ConfMx[1,1]\n",
    "\n",
    "    print('TP = ',TP,'\\nFP = ',FP,'\\nFN = ',FN,'\\nTN = ',TN)\n",
    "    return TP, FP, FN, TN\n"
   ]
  },
  {
   "cell_type": "code",
   "execution_count": 17,
   "metadata": {},
   "outputs": [],
   "source": [
    "#Defining a function to determine the accuracy of \n",
    "def MyAccuracy(y_true, y_pred):\n",
    "    TP,FP,FN,TN = ConfMx(y_true, y_pred)\n",
    "    a = (TP+TN)/(TP+TN+FP+FN)\n",
    "    return a\n",
    "#      return np.mean(y_pred == y_true)\n",
    "\n"
   ]
  },
  {
   "cell_type": "code",
   "execution_count": 18,
   "metadata": {},
   "outputs": [
    {
     "name": "stdout",
     "output_type": "stream",
     "text": [
      "y_train =  ['5' '0' '4' ... '5' '6' '8']\n",
      "y_train_5 =  [ True False False ...  True False False]\n",
      "Confusion matrix:\n",
      " [[52336  2243]\n",
      " [ 1060  4361]] \n",
      "\n",
      "TP =  52336 \n",
      "FP =  2243 \n",
      "FN =  1060 \n",
      "TN =  4361\n",
      "\n",
      "MyAccuracy, a=0.94495\n",
      "Scikit-learn, a=0.94495\n"
     ]
    }
   ],
   "source": [
    "from sklearn.metrics import accuracy_score\n",
    "# rescale the data, use the traditional train/test split\n",
    "print(\"y_train = \",y_train)\n",
    "print(\"y_train_5 = \", y_train_5)\n",
    "\n",
    "# TEST FUNCTION: example of a comperator, using Scikit-learn accuracy_score\n",
    "def TestAccuracy(y_true, y_pred):\n",
    "   a0=MyAccuracy(y_true, y_pred)\n",
    "   a1=accuracy_score(y_true, y_pred)\n",
    "\n",
    "   print(f\"\\nMyAccuracy, a={a0}\")\n",
    "   print(f\"Scikit-learn, a={a1}\")\n",
    "\n",
    "# Comparing MyAccuracy with sklearn.metrics.accuracy_score()\n",
    "TestAccuracy(y_train_5, y_train_pred)\n"
   ]
  },
  {
   "cell_type": "markdown",
   "metadata": {},
   "source": [
    "#### Qb Implement Precision, Recall and $F_1$-score and test it on the MNIST data.\n",
    "\n",
    "Now, implement the `MyPrecision`, `MyRecall` and `MyF1Score` functions, again taking MNIST as input, using the SGD and the Dummy classifiers and make some test vectors to compare to the functions found in Scikit-learn..."
   ]
  },
  {
   "cell_type": "code",
   "execution_count": 8,
   "metadata": {},
   "outputs": [
    {
     "name": "stdout",
     "output_type": "stream",
     "text": [
      "MyPrec =  0.9589036076146503\n",
      "MyRec =  0.9801483257172822\n",
      "MyF1 =  0.9694095855522111\n"
     ]
    }
   ],
   "source": [
    "# TODO: Qb..\n",
    "\n",
    "def MyPrecision(y_true, y_pred):\n",
    "    ConfMx = confusion_matrix(y_true, y_train_pred)\n",
    "    TP = ConfMx[0,0]\n",
    "    FP = ConfMx[0,1]\n",
    "    FN = ConfMx[1,0]\n",
    "    TN = ConfMx[1,1]\n",
    "    return TP/(TP+FP)\n",
    "\n",
    "def MyRecall(y_true, y_pred):\n",
    "    ConfMx = confusion_matrix(y_true, y_train_pred)\n",
    "    TP = ConfMx[0,0]\n",
    "    FP = ConfMx[0,1]\n",
    "    FN = ConfMx[1,0]\n",
    "    TN = ConfMx[1,1]\n",
    "    return TP/(TP+FN)\n",
    "    \n",
    "def MyF1Score(y_true, y_pred):\n",
    "    p=MyPrecision(y_true, y_pred)\n",
    "    r=MyRecall(y_true, y_pred)\n",
    "    beta=1\n",
    "    fBeta=2/((1/p)+(1/r))\n",
    "    return fBeta\n",
    "\n",
    "def testFunc(y_true, y_pred):\n",
    "    print(\"MyPrec = \", MyPrecision(y_true, y_pred))\n",
    "    print(\"MyRec = \", MyRecall(y_true, y_pred))\n",
    "    print(\"MyF1 = \", MyF1Score(y_true, y_pred))\n",
    "    \n",
    "\n",
    "testFunc(y_train_5, y_train_pred)"
   ]
  },
  {
   "cell_type": "markdown",
   "metadata": {},
   "source": [
    "#### Qc The Confusion Matrix\n",
    "\n",
    "Revisit your solution to Qb in the `dummy_classifier.ipynb`. Generate the confusion matrix for both the Dummy and the SGD classifier using the `scklearn.metrics.confusion_matrix` function. \n",
    "\n",
    "I got the two confusion matrices\n",
    "\n",
    "```\n",
    "M_dummy=[[18166     0]\n",
    "        [ 1834     0]]\n",
    "   \n",
    "M_SDG=[[17618   548]\n",
    "      [  267  1567]]\n",
    "\n",
    "```\n",
    "your data may look similar (but not 100% equal).\n",
    "\n",
    "How are the Scikit-learn confusion matrix organized, where are the TP, FP, FN and TN located in the matrix indices, and what happens if you mess up the parameters calling\n",
    "\n",
    "```python\n",
    "confusion_matrix(y_train_pred, y_train_5)\n",
    "```\n",
    "\n",
    "instead of \n",
    "```python\n",
    "confusion_matrix(y_train_5, y_train_pred)\n",
    "```"
   ]
  },
  {
   "cell_type": "code",
   "execution_count": 22,
   "metadata": {},
   "outputs": [
    {
     "name": "stdout",
     "output_type": "stream",
     "text": [
      "M_Dummy = \n",
      " [[54579     0]\n",
      " [ 5421     0]]\n",
      "(60000,)\n",
      "M_SDG = \n",
      " [[52336  2243]\n",
      " [ 1060  4361]]\n"
     ]
    }
   ],
   "source": [
    "from sklearn.metrics import confusion_matrix\n",
    "from sklearn.base import BaseEstimator\n",
    "from sklearn.model_selection import cross_val_score\n",
    "from sklearn.model_selection import cross_val_predict\n",
    "\n",
    "class DummyClassifier(BaseEstimator):\n",
    "    def fit(self, X, y=None):\n",
    "        pass\n",
    "    def predict(self, X):\n",
    "        return np.zeros((len(X), 1), dtype=bool)\n",
    "    \n",
    "dummy= DummyClassifier()\n",
    "dummy_cross_val=cross_val_predict(dummy, X_train, y_train_5, cv=3)\n",
    "Dummy_Confus=confusion_matrix(y_train_5,dummy_cross_val)\n",
    "print(\"M_Dummy = \\n\", Dummy_Confus)\n",
    "\n",
    "X_train, X_test, y_train, y_test = X[:60000], X[60000:], y[:60000], y[60000:]\n",
    "\n",
    "sgd_predict = cross_val_predict(sgd_clf, X_train, y_train_5, cv=3)\n",
    "print(sgd_predict.shape)\n",
    "sgd_confus = confusion_matrix(y_train_5, sgd_predict)\n",
    "print(\"M_SDG = \\n\", sgd_confus)\n"
   ]
  },
  {
   "cell_type": "code",
   "execution_count": 23,
   "metadata": {},
   "outputs": [
    {
     "name": "stdout",
     "output_type": "stream",
     "text": [
      "M_Dummy = \n",
      " [[54579  5421]\n",
      " [    0     0]]\n"
     ]
    }
   ],
   "source": [
    "#Dummy class switch to show importance of position\n",
    "dummy= DummyClassifier()\n",
    "dummy_cross_val=cross_val_predict(dummy, X_train, y_train_5, cv=3)\n",
    "Dummy_Confus_switch=confusion_matrix(dummy_cross_val,y_train_5)\n",
    "print(\"M_Dummy = \\n\", Dummy_Confus_switch)"
   ]
  },
  {
   "cell_type": "markdown",
   "metadata": {},
   "source": [
    "#### Qd A Confusion Matrix Heat-map\n",
    "\n",
    "Generate a _heat map_ image for the confusion matrices, `M_dummy` and `M_SGD` respectively, getting inspiration from [HOML] \"Error Analysis\", pp.96-97.\n",
    "\n",
    "This heat map could be an important guide for you when analysing multiclass data in the future."
   ]
  },
  {
   "cell_type": "code",
   "execution_count": 14,
   "metadata": {},
   "outputs": [
    {
     "data": {
      "text/plain": [
       "<Figure size 432x288 with 0 Axes>"
      ]
     },
     "metadata": {},
     "output_type": "display_data"
    },
    {
     "data": {
      "image/png": "[encoded data removed]",
      "text/plain": [
       "<Figure size 432x432 with 1 Axes>"
      ]
     },
     "metadata": {
      "needs_background": "light"
     },
     "output_type": "display_data"
    },
    {
     "data": {
      "text/plain": [
       "<Figure size 432x288 with 0 Axes>"
      ]
     },
     "metadata": {},
     "output_type": "display_data"
    },
    {
     "data": {
      "image/png": "[encoded data removed]",
      "text/plain": [
       "<Figure size 432x432 with 1 Axes>"
      ]
     },
     "metadata": {
      "needs_background": "light"
     },
     "output_type": "display_data"
    }
   ],
   "source": [
    "import matplotlib.pyplot as plt\n",
    "%matplotlib inline\n",
    "\n",
    "\n",
    "Dummy_fig = plt.figure()\n",
    "Dummy_fig, ax = plt.subplots(1,1, figsize=(6,6))\n",
    "Dummy_fig_heatplot=ax.imshow(Dummy_Confus, cmap='BuPu')\n",
    "\n",
    "\n",
    "SGD_fig = plt.figure()\n",
    "SGD_fig, ax = plt.subplots(1,1, figsize=(6,6))\n",
    "SGD_fig_heatplot=ax.imshow(sgd_confus, cmap='BuPu')"
   ]
  },
  {
   "cell_type": "markdown",
   "metadata": {},
   "source": [
    "### Qe Conclusion\n",
    "\n",
    "Now, conclude on all the exercise above. \n",
    "\n",
    "Write a short textual conclusion (max. 10- to 20-lines) that extract the _essence_ of the exercises: why did you think it was important to look at these particular ML concepts, and what was our overall learning outcome of the exercises (in broad terms)."
   ]
  },
  {
   "cell_type": "markdown",
   "metadata": {},
   "source": [
    "### ANSWER:\n",
    "\n",
    "In this exercise we have created a general accuracy function. The accuracy function was used on the MNIST data from the dummy classifier made in the previous exercise and on the Stochastic Gradient Descent(__SGD__) classifier.\n",
    "\n",
    "The same data was tested with the `sklearn.metrics.accuracy_score()` and the results was compared.\n",
    "As seen in __QA__ the results, from our own function and sklearn functions, are the same, which shows that the formula given in the exercise description is true and the sklearn accuracy function can be used for the expected purpose.\n",
    "\n",
    "In __Qc__ a confusion matrix was created from the dummy classifier exercise and the __SGD__ classifier.\n",
    "As seen in the results, the distributions of the confusion matrix resembles the distribution given in the exersice description.\n",
    "The dummy classifier only distributes the results in TP, FN and the SGD classifier distributes the results in TP, TN, FP, FN in descending order.\n",
    "\n",
    "It is also shown in __Qc__, the importance of parameter placements. In the dummy_confus_switch, the result is distributed between TP, FP instead of TP and FN\n",
    "\n",
    "Both classifiers was plottet in a heat map, to show the separations of the values."
   ]
  }
 ],
 "metadata": {
  "kernelspec": {
   "display_name": "Python 3",
   "language": "python",
   "name": "python3"
  },
  "language_info": {
   "codemirror_mode": {
    "name": "ipython",
    "version": 3
   },
   "file_extension": ".py",
   "mimetype": "text/x-python",
   "name": "python",
   "nbconvert_exporter": "python",
   "pygments_lexer": "ipython3",
   "version": "3.7.3"
  },
  "varInspector": {
   "cols": {
    "lenName": 16,
    "lenType": 16,
    "lenVar": 40
   },
   "kernels_config": {
    "python": {
     "delete_cmd_postfix": "",
     "delete_cmd_prefix": "del ",
     "library": "var_list.py",
     "varRefreshCmd": "print(var_dic_list())"
    },
    "r": {
     "delete_cmd_postfix": ") ",
     "delete_cmd_prefix": "rm(",
     "library": "var_list.r",
     "varRefreshCmd": "cat(var_dic_list()) "
    }
   },
   "types_to_exclude": [
    "module",
    "function",
    "builtin_function_or_method",
    "instance",
    "_Feature"
   ],
   "window_display": false
  }
 },
 "nbformat": 4,
 "nbformat_minor": 2
}
