{
 "cells": [
  {
   "cell_type": "markdown",
   "metadata": {},
   "source": [
    "# Example 1"
   ]
  },
  {
   "cell_type": "code",
   "execution_count": null,
   "metadata": {},
   "outputs": [],
   "source": [
    "\n",
    "import numpy as np\n",
    "from sklearn.decomposition import PCA\n",
    "import matplotlib.pyplot as plt\n",
    "\n",
    "\n",
    "#%% Eksempel 1\n",
    "\n",
    "# data generering - norm.fordelt\n",
    "X = np.random.randn(1000, 2) # Gauss N(0,1)\n",
    "\n",
    "X = X @ np.array([[1, 0],[0, 10]])  # OBS: std afv = 1 og 10\n",
    "\n",
    "theta = np.radians(55)\n",
    "R = np.array([[np.cos(theta), -np.sin(theta)],[np.sin(theta),  np.cos(theta)]])  # Rotation af data\n",
    "X = X @ R\n",
    "\n",
    "# Tilføj offset / middelværdi\n",
    "X = X + np.tile(np.array([20, 40]), (1000, 1))\n",
    "\n",
    "plt.scatter(X[:,0], X[:,1], s=2)\n",
    "plt.axis('equal')"
   ]
  },
  {
   "cell_type": "code",
   "execution_count": null,
   "metadata": {},
   "outputs": [],
   "source": [
    "#%% Fit PCA\n",
    "\n",
    "pca = PCA(n_components=1)\n",
    "pca.fit(X)\n",
    "\n",
    "# principale akser\n",
    "v1 = pca.components_\n",
    "\n",
    "# varianser og standard afvigelser (længde af akser)\n",
    "varians1 = pca.explained_variance_\n",
    "s1 = np.sqrt(varians1)\n",
    "\n",
    "# Udtrukket middelværdi\n",
    "m1 = pca.mean_\n"
   ]
  },
  {
   "cell_type": "markdown",
   "metadata": {},
   "source": [
    "# Example 2"
   ]
  },
  {
   "cell_type": "code",
   "execution_count": null,
   "metadata": {},
   "outputs": [],
   "source": [
    "#%% Eksempel 2\n",
    "\n",
    "# data generering - Gauss\n",
    "X2 = np.random.randn(10000, 50)\n",
    "Dmat = np.diag(np.linspace(5, 100, 50)) # 50 værdier fra 5 til 100\n",
    "X2 = X2 @ Dmat\n"
   ]
  },
  {
   "cell_type": "code",
   "execution_count": null,
   "metadata": {},
   "outputs": [],
   "source": [
    "#%% Fit PCA\n",
    "\n",
    "pca2 = PCA(n_components=50)  # medtager alle komponenter\n",
    "pca2.fit(X2)\n",
    "\n",
    "v1 = pca2.components_\n",
    "\n",
    "s1 = np.sqrt(pca2.explained_variance_) # OBS: Relater til Dmat..\n",
    "plt.plot(s1)\n",
    "plt.title('Standard afvigelser (spredning) langs de forskellige dimensioner')\n",
    "plt.xlabel('Dimension nummer')\n",
    "\n",
    "plt.figure()\n",
    "plt.plot(np.cumsum(pca2.explained_variance_)/np.sum(pca2.explained_variance_))\n",
    "plt.title('Explained variance - procentdel')\n",
    "plt.xlabel('Dimension nummer')\n",
    "\n"
   ]
  },
  {
   "cell_type": "code",
   "execution_count": null,
   "metadata": {},
   "outputs": [],
   "source": [
    "#%% Projektion på 2D til visualisering\n",
    "\n",
    "# Alternativ : Brug fit_transform eller transform direkte..\n",
    "v2d = v1[:2,:] # to første comp\n",
    "X2proj = X2 @ v2d.T\n",
    "plt.scatter(X2proj[:,0], X2proj[:,1], s=1) # Læg mærke til standard afvigelserne..\n",
    "\n",
    "\n",
    "v2d2 = v1[48:,:] # to sidste comp\n",
    "X2proj2 = X2 @ v2d2.T\n",
    "plt.figure()\n",
    "plt.scatter(X2proj2[:,0], X2proj2[:,1], s=1)"
   ]
  },
  {
   "cell_type": "code",
   "execution_count": null,
   "metadata": {},
   "outputs": [],
   "source": []
  },
  {
   "cell_type": "code",
   "execution_count": null,
   "metadata": {},
   "outputs": [],
   "source": []
  }
 ],
 "metadata": {
  "kernelspec": {
   "display_name": "Python 3",
   "language": "python",
   "name": "python3"
  },
  "language_info": {
   "codemirror_mode": {
    "name": "ipython",
    "version": 3
   },
   "file_extension": ".py",
   "mimetype": "text/x-python",
   "name": "python",
   "nbconvert_exporter": "python",
   "pygments_lexer": "ipython3",
   "version": "3.7.3"
  }
 },
 "nbformat": 4,
 "nbformat_minor": 2
}
