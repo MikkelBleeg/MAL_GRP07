{
 "cells": [
  {
   "cell_type": "markdown",
   "metadata": {},
   "source": [
    "# Exercise 1\n",
    "For this exercise, an analysis of \"California housing prices\" (https://www.kaggle.com/camnugent/california-housing-prices), will be taken."
   ]
  },
  {
   "cell_type": "markdown",
   "metadata": {},
   "source": [
    "### Qa)\n",
    "Plot the distribution of median_income. Also, find the spread, average and median.\n",
    "\n"
   ]
  },
  {
   "cell_type": "code",
   "execution_count": 1,
   "metadata": {},
   "outputs": [
    {
     "name": "stdout",
     "output_type": "stream",
     "text": [
      "0        8.3252\n",
      "1        8.3014\n",
      "2        7.2574\n",
      "3        5.6431\n",
      "4        3.8462\n",
      "5        4.0368\n",
      "6        3.6591\n",
      "7        3.1200\n",
      "8        2.0804\n",
      "9        3.6912\n",
      "10       3.2031\n",
      "11       3.2705\n",
      "12       3.0750\n",
      "13       2.6736\n",
      "14       1.9167\n",
      "15       2.1250\n",
      "16       2.7750\n",
      "17       2.1202\n",
      "18       1.9911\n",
      "19       2.6033\n",
      "20       1.3578\n",
      "21       1.7135\n",
      "22       1.7250\n",
      "23       2.1806\n",
      "24       2.6000\n",
      "25       2.4038\n",
      "26       2.4597\n",
      "27       1.8080\n",
      "28       1.6424\n",
      "29       1.6875\n",
      "          ...  \n",
      "20610    1.3631\n",
      "20611    1.2857\n",
      "20612    1.4934\n",
      "20613    1.4958\n",
      "20614    2.4695\n",
      "20615    2.3598\n",
      "20616    2.0469\n",
      "20617    3.3021\n",
      "20618    2.2500\n",
      "20619    2.7303\n",
      "20620    4.5625\n",
      "20621    2.3661\n",
      "20622    2.4167\n",
      "20623    2.8235\n",
      "20624    3.0739\n",
      "20625    4.1250\n",
      "20626    2.1667\n",
      "20627    3.0000\n",
      "20628    2.5952\n",
      "20629    2.0943\n",
      "20630    3.5673\n",
      "20631    3.5179\n",
      "20632    3.1250\n",
      "20633    2.5495\n",
      "20634    3.7125\n",
      "20635    1.5603\n",
      "20636    2.5568\n",
      "20637    1.7000\n",
      "20638    1.8672\n",
      "20639    2.3886\n",
      "Name: median_income, Length: 20640, dtype: float64\n"
     ]
    }
   ],
   "source": [
    "import matplotlib.pyplot as plt\n",
    "import numpy as np\n",
    "import pandas as pd\n",
    "from sklearn import datasets, linear_model\n",
    "from sklearn.metrics import mean_squared_error, r2_score\n",
    "from sklearn.datasets import fetch_california_housing\n",
    "\n",
    "readFile = pd.read_csv('housing.csv')\n",
    "\n",
    "\n",
    "# print(readFile.dtypes)\n",
    "# Apparently, this worked :s\n",
    "print(readFile.median_income)\n",
    "\n",
    "def varians(data):\n",
    "    return np.var(data)\n",
    "\n",
    "#Spread\n",
    "\n",
    "def spread(data):\n",
    "    return np.sqrt(varians(data))\n",
    "\n",
    "#Average\n",
    "\n",
    "def Average(data):\n",
    "    return sum(data)/len(data)\n",
    "\n",
    "#Median\n",
    "\n",
    "def median(data):\n",
    "    return np.median(data)\n",
    "\n",
    "def printAnalysis(data):\n",
    "    print('Varians found to be = ', varians(data))\n",
    "    print('Spread found to be = ', spread(data))\n",
    "    print('Average found to be = ', Average(data))\n",
    "    print('Median found to be = ', median(data))\n",
    "\n",
    "# print(len(readFile))\n"
   ]
  },
  {
   "cell_type": "code",
   "execution_count": 2,
   "metadata": {},
   "outputs": [
    {
     "name": "stdout",
     "output_type": "stream",
     "text": [
      "Varians found to be =  3.60914768969746\n",
      "Spread found to be =  1.899775694574878\n",
      "Average found to be =  3.8706710029070246\n",
      "Median found to be =  3.5347999999999997\n"
     ]
    }
   ],
   "source": [
    "printAnalysis(readFile.median_income)"
   ]
  },
  {
   "cell_type": "markdown",
   "metadata": {},
   "source": [
    "### Qb)\n",
    "Is there a difference in median and average of median_income?\n",
    "Which of these two describes best the average family income and why?\n"
   ]
  },
  {
   "cell_type": "markdown",
   "metadata": {},
   "source": [
    "There is a difference in the median and average of median_income.\n",
    "\n",
    "Median describes: Median household income refers to the income level earned by a given household where half of the households in the geographic area of interest earn more and half earn less.  The median is found by listing the income in ascending or descending order and finding the value given to half of the number of house holds.\n",
    "\n",
    "Average/mean describes: the average household income on the other hand is calculated by dividing the total household income in the target geography by the number of households.\n",
    "\n",
    "\n",
    "The median compared to the average disregards skewed datapoints and outliers. For a given demographic with maybe 15% unknown distribution, the median would be a better fit.\n",
    "If everyone for given demographic was having about the same income, the average would describe the average family income better. "
   ]
  },
  {
   "cell_type": "code",
   "execution_count": 12,
   "metadata": {},
   "outputs": [
    {
     "name": "stdout",
     "output_type": "stream",
     "text": [
      "Household with income above 8= 690\n",
      "Household with income above 7= 1199\n",
      "Household with income below 3.8= 11716\n",
      "Household with income below 3.5= 10093\n"
     ]
    }
   ],
   "source": [
    "ab8=0\n",
    "\n",
    "for x in range(len(readFile.median_income)):\n",
    "    if readFile.median_income.loc[x]>8:\n",
    "        ab8 +=1\n",
    "    \n",
    "print('Household with income above 8=', ab8)\n",
    "\n",
    "\n",
    "ab7=0\n",
    "for y in range(len(readFile.median_income)):\n",
    "    if readFile.median_income.loc[y]>7:\n",
    "        ab7 +=1\n",
    "    \n",
    "print('Household with income above 7=', ab7)\n",
    "\n",
    "\n",
    "bl3=0\n",
    "\n",
    "for x in range(len(readFile.median_income)):\n",
    "    if readFile.median_income.loc[x]<3.8:\n",
    "        bl3 +=1\n",
    "    \n",
    "print('Household with income below 3.8=', bl3)\n",
    "\n",
    "\n",
    "bl2=0\n",
    "for y in range(len(readFile.median_income)):\n",
    "    if readFile.median_income.loc[y]<3.5:\n",
    "        bl2 +=1\n",
    "    \n",
    "print('Household with income below 3.5=', bl2)\n",
    "\n"
   ]
  },
  {
   "cell_type": "markdown",
   "metadata": {},
   "source": [
    "As seen, more than half of the total households earns less than the mean of the median_income, compared to the median which seems close to the half of the total households. "
   ]
  },
  {
   "cell_type": "markdown",
   "metadata": {},
   "source": [
    "### Qc)\n",
    "Fit a normal distribution of the data and plot a histogram - does the two fit?\n"
   ]
  },
  {
   "cell_type": "code",
   "execution_count": 28,
   "metadata": {},
   "outputs": [
    {
     "data": {
      "image/png": "[encoded data removed]",
      "text/plain": [
       "<Figure size 432x288 with 1 Axes>"
      ]
     },
     "metadata": {
      "needs_background": "light"
     },
     "output_type": "display_data"
    }
   ],
   "source": [
    "readFile.head()\n",
    "\n",
    "#density line\n",
    "density = stats.gaussian_kde(readFIle.median_income)\n",
    "\n",
    "\n",
    "normRead=np.random.normal(Average(readFile.median_income), spread(readFile.median_income), len(readFile.median_income))\n",
    "plt.hist(readFile.median_income, bins=100, density=True)\n",
    "plt.show()"
   ]
  },
  {
   "cell_type": "markdown",
   "metadata": {},
   "source": [
    "### Qd)\n",
    "Is there a link between median_house_value and median_income? Make correlation plot\n",
    "\n"
   ]
  },
  {
   "cell_type": "code",
   "execution_count": null,
   "metadata": {},
   "outputs": [],
   "source": []
  },
  {
   "cell_type": "markdown",
   "metadata": {},
   "source": [
    "### Qe)\n",
    "What is the 5% and 95% percentages of median_house_value? (i.e. the limits for 5% lowest and highest). Also, plot the distribution of median_house_value.\n",
    "Comment on the realism of the max-value and 95% percentile - suggest a solution for this issue, if more realistic data was desired\n",
    "\n",
    "\n",
    "\n"
   ]
  },
  {
   "cell_type": "code",
   "execution_count": null,
   "metadata": {},
   "outputs": [],
   "source": []
  },
  {
   "cell_type": "code",
   "execution_count": null,
   "metadata": {},
   "outputs": [],
   "source": []
  },
  {
   "cell_type": "code",
   "execution_count": null,
   "metadata": {},
   "outputs": [],
   "source": []
  }
 ],
 "metadata": {
  "kernelspec": {
   "display_name": "Python 3",
   "language": "python",
   "name": "python3"
  },
  "language_info": {
   "codemirror_mode": {
    "name": "ipython",
    "version": 3
   },
   "file_extension": ".py",
   "mimetype": "text/x-python",
   "name": "python",
   "nbconvert_exporter": "python",
   "pygments_lexer": "ipython3",
   "version": "3.7.3"
  }
 },
 "nbformat": 4,
 "nbformat_minor": 2
}
