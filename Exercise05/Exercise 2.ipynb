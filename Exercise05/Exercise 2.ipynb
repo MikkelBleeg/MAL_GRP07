{
 "cells": [
  {
   "cell_type": "markdown",
   "metadata": {},
   "source": [
    "# Exercise 2\n",
    "Repeat Exercise 1 for your own project and data"
   ]
  },
  {
   "cell_type": "markdown",
   "metadata": {},
   "source": [
    "### Qa)\n",
    "Plot the distribution Triangles. Also, find the spread, average and median.\n",
    "\n"
   ]
  },
  {
   "cell_type": "code",
   "execution_count": 1,
   "metadata": {},
   "outputs": [],
   "source": [
    "import sys,os\n",
    "sys.path.append(os.path.expanduser('./ProjectFunctions'))\n",
    "from ProjectFunctions import LoadFunc as Func\n",
    "\n",
    "Triangles = Func.getTriangle()\n",
    "Squares = Func.getSquare()\n",
    "Circle = Func.getCircle()\n",
    "Star = Func.getStar()\n"
   ]
  },
  {
   "cell_type": "code",
   "execution_count": 2,
   "metadata": {},
   "outputs": [],
   "source": [
    "import matplotlib.pyplot as plt\n",
    "import numpy as np\n",
    "import pandas as pd\n",
    "import scipy.stats as stats\n",
    "from sklearn import datasets, linear_model\n",
    "from sklearn.metrics import mean_squared_error, r2_score\n",
    "\n",
    "m1 = []\n",
    "s1 = []\n",
    "v1 = []\n",
    "med1 = []\n",
    "\n",
    "for x in range(len(Triangles)):\n",
    "    m1.append(np.mean(Triangles[x]))\n",
    "    s1.append(np.std(Triangles[x]))\n",
    "    v1.append(np.var(Triangles[x]))\n",
    "    med1.append(np.median(Triangles[x]))\n",
    "    \n",
    "    \n",
    "    \n",
    "# Uncomment below, to see Mean, Standardard Deviation, Variation and Median of each Triangle\n",
    "    \n",
    "# print('Average of Triangles = ', m1)\n",
    "# print('Standard Deviation of Triangles = ', s1)\n",
    "# print('Variation of Triangles =', v1)\n",
    "# print('Median of triangles = ', med1)"
   ]
  },
  {
   "cell_type": "code",
   "execution_count": 3,
   "metadata": {},
   "outputs": [
    {
     "data": {
      "text/plain": [
       "<matplotlib.image.AxesImage at 0x23029f2f0b8>"
      ]
     },
     "execution_count": 3,
     "metadata": {},
     "output_type": "execute_result"
    },
    {
     "data": {
      "image/png": "[encoded data removed]",
      "text/plain": [
       "<Figure size 432x288 with 1 Axes>"
      ]
     },
     "metadata": {
      "needs_background": "light"
     },
     "output_type": "display_data"
    }
   ],
   "source": [
    "import pylab as pult\n",
    "\n",
    "pult.imshow(Func.reshape(Triangles[1]))\n"
   ]
  },
  {
   "cell_type": "markdown",
   "metadata": {},
   "source": [
    "### Qb)\n",
    "Is there a difference in median and mean in Triangles?\n",
    "Which of these two describes the the Triangle the best?\n"
   ]
  },
  {
   "cell_type": "markdown",
   "metadata": {},
   "source": [
    "Average would most likely describe Triangles the best. The median only takes the value at the \"middle\" and would not describe the rest of the data. The mean would describe average value of all the data, and would describe more the different values in the data set"
   ]
  },
  {
   "cell_type": "markdown",
   "metadata": {},
   "source": [
    "### Qc)\n",
    "Fit a normal distribution of the data and plot a histogram - does the two fit?\n"
   ]
  },
  {
   "cell_type": "code",
   "execution_count": 18,
   "metadata": {},
   "outputs": [
    {
     "data": {
      "image/png": "[encoded data removed]",
      "text/plain": [
       "<Figure size 432x288 with 1 Axes>"
      ]
     },
     "metadata": {
      "needs_background": "light"
     },
     "output_type": "display_data"
    }
   ],
   "source": [
    "#density line\n",
    "# density = stats.gaussian_kde(Triangles)\n",
    "\n",
    "\n",
    "\n",
    "# normRead=np.random.normal(m1[1], s1[1], len(Triangles[1]))\n",
    "samples, histo, _ = plt.hist(np.array(Triangles[2]), bins=255,histtype='step')\n",
    "plt.xlabel('Colour')\n",
    "plt.ylabel('Percentage distribution')\n",
    "plt.show()"
   ]
  },
  {
   "cell_type": "markdown",
   "metadata": {},
   "source": []
  },
  {
   "cell_type": "markdown",
   "metadata": {},
   "source": [
    "### Qd)\n",
    "Is there a link between Triangles and Squares? Make correlation plot\n",
    "\n"
   ]
  },
  {
   "cell_type": "code",
   "execution_count": 20,
   "metadata": {},
   "outputs": [
    {
     "name": "stdout",
     "output_type": "stream",
     "text": [
      "Triangle  3720\n",
      "Squares  3765\n"
     ]
    }
   ],
   "source": [
    "print(\"Triangle \", len(Triangles))\n",
    "\n",
    "print(\"Squares \", len(Squares))"
   ]
  },
  {
   "cell_type": "code",
   "execution_count": 21,
   "metadata": {},
   "outputs": [
    {
     "data": {
      "text/plain": [
       "Text(0, 0.5, 'House Value')"
      ]
     },
     "execution_count": 21,
     "metadata": {},
     "output_type": "execute_result"
    },
    {
     "data": {
      "image/png": "[encoded data removed]",
      "text/plain": [
       "<Figure size 432x288 with 1 Axes>"
      ]
     },
     "metadata": {
      "needs_background": "light"
     },
     "output_type": "display_data"
    }
   ],
   "source": [
    "plt.scatter(Triangles[1], Squares[1], s=1)\n",
    "plt.xlabel('Income')\n",
    "plt.ylabel('House Value')"
   ]
  },
  {
   "cell_type": "markdown",
   "metadata": {},
   "source": [
    "### Qe)\n",
    "What is the 5% and 95% percentages of median_house_value? (i.e. the limits for 5% lowest and highest). Also, plot the distribution of median_house_value.\n",
    "Comment on the realism of the max-value and 95% percentile - suggest a solution for this issue, if more realistic data was desired\n",
    "\n",
    "\n",
    "\n"
   ]
  },
  {
   "cell_type": "code",
   "execution_count": null,
   "metadata": {},
   "outputs": [],
   "source": []
  },
  {
   "cell_type": "code",
   "execution_count": null,
   "metadata": {},
   "outputs": [],
   "source": []
  },
  {
   "cell_type": "code",
   "execution_count": null,
   "metadata": {},
   "outputs": [],
   "source": []
  }
 ],
 "metadata": {
  "kernelspec": {
   "display_name": "Python 3",
   "language": "python",
   "name": "python3"
  },
  "language_info": {
   "codemirror_mode": {
    "name": "ipython",
    "version": 3
   },
   "file_extension": ".py",
   "mimetype": "text/x-python",
   "name": "python",
   "nbconvert_exporter": "python",
   "pygments_lexer": "ipython3",
   "version": "3.7.3"
  }
 },
 "nbformat": 4,
 "nbformat_minor": 2
}
