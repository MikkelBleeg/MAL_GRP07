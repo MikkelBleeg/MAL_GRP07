{
 "cells": [
  {
   "cell_type": "markdown",
   "metadata": {},
   "source": [
    "# Exercise 1\n",
    "For this exercise, an analysis of \"California housing prices\" (https://www.kaggle.com/camnugent/california-housing-prices), will be taken."
   ]
  },
  {
   "cell_type": "markdown",
   "metadata": {},
   "source": [
    "### Qa)\n",
    "Plot the distribution of median_income. Also, find the spread, average and median.\n",
    "\n"
   ]
  },
  {
   "cell_type": "code",
   "execution_count": 1,
   "metadata": {},
   "outputs": [
    {
     "name": "stdout",
     "output_type": "stream",
     "text": [
      "0        8.3252\n",
      "1        8.3014\n",
      "2        7.2574\n",
      "3        5.6431\n",
      "4        3.8462\n",
      "5        4.0368\n",
      "6        3.6591\n",
      "7        3.1200\n",
      "8        2.0804\n",
      "9        3.6912\n",
      "10       3.2031\n",
      "11       3.2705\n",
      "12       3.0750\n",
      "13       2.6736\n",
      "14       1.9167\n",
      "15       2.1250\n",
      "16       2.7750\n",
      "17       2.1202\n",
      "18       1.9911\n",
      "19       2.6033\n",
      "20       1.3578\n",
      "21       1.7135\n",
      "22       1.7250\n",
      "23       2.1806\n",
      "24       2.6000\n",
      "25       2.4038\n",
      "26       2.4597\n",
      "27       1.8080\n",
      "28       1.6424\n",
      "29       1.6875\n",
      "          ...  \n",
      "20610    1.3631\n",
      "20611    1.2857\n",
      "20612    1.4934\n",
      "20613    1.4958\n",
      "20614    2.4695\n",
      "20615    2.3598\n",
      "20616    2.0469\n",
      "20617    3.3021\n",
      "20618    2.2500\n",
      "20619    2.7303\n",
      "20620    4.5625\n",
      "20621    2.3661\n",
      "20622    2.4167\n",
      "20623    2.8235\n",
      "20624    3.0739\n",
      "20625    4.1250\n",
      "20626    2.1667\n",
      "20627    3.0000\n",
      "20628    2.5952\n",
      "20629    2.0943\n",
      "20630    3.5673\n",
      "20631    3.5179\n",
      "20632    3.1250\n",
      "20633    2.5495\n",
      "20634    3.7125\n",
      "20635    1.5603\n",
      "20636    2.5568\n",
      "20637    1.7000\n",
      "20638    1.8672\n",
      "20639    2.3886\n",
      "Name: median_income, Length: 20640, dtype: float64\n"
     ]
    }
   ],
   "source": [
    "import matplotlib.pyplot as plt\n",
    "import numpy as np\n",
    "import pandas as pd\n",
    "import scipy.stats as stats\n",
    "from sklearn import datasets, linear_model\n",
    "from sklearn.metrics import mean_squared_error, r2_score\n",
    "from sklearn.datasets import fetch_california_housing\n",
    "\n",
    "readFile = pd.read_csv('housing.csv')\n",
    "\n",
    "\n",
    "# print(readFile.dtypes)\n",
    "# Apparently, this worked :s\n",
    "print(readFile.median_income)\n",
    "\n",
    "def varians(data):\n",
    "    return np.var(data)\n",
    "\n",
    "#Spread\n",
    "\n",
    "def spread(data):\n",
    "    return np.sqrt(varians(data))\n",
    "\n",
    "#Average\n",
    "\n",
    "def Average(data):\n",
    "    return sum(data)/len(data)\n",
    "\n",
    "#Median\n",
    "\n",
    "def median(data):\n",
    "    return np.median(data)\n",
    "\n",
    "def printAnalysis(data):\n",
    "    print('Varians found to be = ', varians(data))\n",
    "    print('Spread found to be = ', spread(data))\n",
    "    print('Average found to be = ', Average(data))\n",
    "    print('Median found to be = ', median(data))\n",
    "\n",
    "# print(len(readFile))\n"
   ]
  },
  {
   "cell_type": "code",
   "execution_count": 2,
   "metadata": {},
   "outputs": [
    {
     "name": "stdout",
     "output_type": "stream",
     "text": [
      "Varians found to be =  3.60914768969746\n",
      "Spread found to be =  1.899775694574878\n",
      "Average found to be =  3.8706710029070246\n",
      "Median found to be =  3.5347999999999997\n"
     ]
    }
   ],
   "source": [
    "printAnalysis(readFile.median_income)"
   ]
  },
  {
   "cell_type": "markdown",
   "metadata": {},
   "source": [
    "### Qb)\n",
    "Is there a difference in median and average of median_income?\n",
    "Which of these two describes best the average family income and why?\n"
   ]
  },
  {
   "cell_type": "code",
   "execution_count": 3,
   "metadata": {},
   "outputs": [
    {
     "name": "stdout",
     "output_type": "stream",
     "text": [
      "Household with income above 8= 690\n",
      "Household with income above 7= 1199\n",
      "Household with income above 12= 113\n",
      "Household with income below 3.8= 11716\n",
      "Household with income below 3.5= 10093\n"
     ]
    }
   ],
   "source": [
    "ab8=0\n",
    "\n",
    "for x in range(len(readFile.median_income)):\n",
    "    if readFile.median_income.loc[x]>8:\n",
    "        ab8 +=1\n",
    "    \n",
    "print('Household with income above 8=', ab8)\n",
    "\n",
    "\n",
    "ab7=0\n",
    "for y in range(len(readFile.median_income)):\n",
    "    if readFile.median_income.loc[y]>7:\n",
    "        ab7 +=1\n",
    "    \n",
    "print('Household with income above 7=', ab7)\n",
    "\n",
    "bl12=0\n",
    "for y in range(len(readFile.median_income)):\n",
    "    if readFile.median_income.loc[y]>12:\n",
    "        bl12 +=1\n",
    "    \n",
    "print('Household with income above 12=', bl12)\n",
    "\n",
    "\n",
    "bl3=0\n",
    "\n",
    "for x in range(len(readFile.median_income)):\n",
    "    if readFile.median_income.loc[x]<3.8:\n",
    "        bl3 +=1\n",
    "    \n",
    "print('Household with income below 3.8=', bl3)\n",
    "\n",
    "\n",
    "bl2=0\n",
    "for y in range(len(readFile.median_income)):\n",
    "    if readFile.median_income.loc[y]<3.5:\n",
    "        bl2 +=1\n",
    "    \n",
    "print('Household with income below 3.5=', bl2)\n",
    "\n"
   ]
  },
  {
   "cell_type": "markdown",
   "metadata": {},
   "source": [
    "### Qb answer\n",
    "There is a difference in the median and average of median_income.\n",
    "\n",
    "Median describes: Median household income refers to the income level earned by a given household where half of the households in the geographic area of interest earn more and half earn less.  The median is found by listing the income in ascending or descending order and finding the value given to half of the number of house holds.\n",
    "\n",
    "Average/mean describes: the average household income on the other hand is calculated by dividing the total household income in the target geography by the number of households.\n",
    "\n",
    "\n",
    "The median compared to the average disregards skewed datapoints and outliers. For a given demographic with maybe 15% unknown distribution, the median would be a better fit.\n",
    "If everyone for given demographic was having about the same income, the average would describe the average family income better. \n",
    "\n",
    "\n",
    "As seen, more than half of the total households earns less than the mean of the median_income, compared to the median which seems close to the half of the total households"
   ]
  },
  {
   "cell_type": "markdown",
   "metadata": {},
   "source": [
    "### Qc)\n",
    "Fit a normal distribution of the data and plot a histogram - does the two fit?\n"
   ]
  },
  {
   "cell_type": "code",
   "execution_count": 4,
   "metadata": {},
   "outputs": [
    {
     "data": {
      "image/png": "[encoded data removed]",
      "text/plain": [
       "<Figure size 432x288 with 1 Axes>"
      ]
     },
     "metadata": {
      "needs_background": "light"
     },
     "output_type": "display_data"
    }
   ],
   "source": [
    "#density line\n",
    "density = stats.gaussian_kde(readFile.median_income)\n",
    "\n",
    "\n",
    "\n",
    "normRead=np.random.normal(Average(readFile.median_income), spread(readFile.median_income), len(readFile.median_income))\n",
    "samples, histo, _ = plt.hist(readFile.median_income, bins='fd', density=True)\n",
    "plt.plot(histo, density(histo))\n",
    "plt.xlabel('Income')\n",
    "plt.ylabel('Percentage distribution')\n",
    "plt.show()"
   ]
  },
  {
   "cell_type": "markdown",
   "metadata": {},
   "source": [
    "### Qd)\n",
    "Is there a link between median_house_value and median_income? Make correlation plot\n",
    "\n"
   ]
  },
  {
   "cell_type": "code",
   "execution_count": 5,
   "metadata": {},
   "outputs": [
    {
     "data": {
      "image/png": "[encoded data removed]",
      "text/plain": [
       "<Figure size 432x288 with 1 Axes>"
      ]
     },
     "metadata": {
      "needs_background": "light"
     },
     "output_type": "display_data"
    }
   ],
   "source": [
    "#plotting histogram on house value\n",
    "#density line\n",
    "density = stats.gaussian_kde(readFile.median_house_value)\n",
    "\n",
    "\n",
    "normRead=np.random.normal(Average(readFile.median_house_value), spread(readFile.median_house_value), len(readFile.median_house_value))\n",
    "samples, histo, _ = plt.hist(readFile.median_house_value, bins='fd', density=True)\n",
    "plt.plot(histo, density(histo))\n",
    "plt.xlabel('House Value')\n",
    "plt.ylabel('Percentage distribution')\n",
    "plt.show()"
   ]
  },
  {
   "cell_type": "code",
   "execution_count": 6,
   "metadata": {},
   "outputs": [
    {
     "data": {
      "text/html": [
       "<div>\n",
       "<style scoped>\n",
       "    .dataframe tbody tr th:only-of-type {\n",
       "        vertical-align: middle;\n",
       "    }\n",
       "\n",
       "    .dataframe tbody tr th {\n",
       "        vertical-align: top;\n",
       "    }\n",
       "\n",
       "    .dataframe thead th {\n",
       "        text-align: right;\n",
       "    }\n",
       "</style>\n",
       "<table border=\"1\" class=\"dataframe\">\n",
       "  <thead>\n",
       "    <tr style=\"text-align: right;\">\n",
       "      <th></th>\n",
       "      <th>longitude</th>\n",
       "      <th>latitude</th>\n",
       "      <th>housing_median_age</th>\n",
       "      <th>total_rooms</th>\n",
       "      <th>total_bedrooms</th>\n",
       "      <th>population</th>\n",
       "      <th>households</th>\n",
       "      <th>median_income</th>\n",
       "      <th>median_house_value</th>\n",
       "      <th>ocean_proximity</th>\n",
       "    </tr>\n",
       "  </thead>\n",
       "  <tbody>\n",
       "    <tr>\n",
       "      <th>0</th>\n",
       "      <td>-122.23</td>\n",
       "      <td>37.88</td>\n",
       "      <td>41.0</td>\n",
       "      <td>880.0</td>\n",
       "      <td>129.0</td>\n",
       "      <td>322.0</td>\n",
       "      <td>126.0</td>\n",
       "      <td>8.3252</td>\n",
       "      <td>452600.0</td>\n",
       "      <td>NEAR BAY</td>\n",
       "    </tr>\n",
       "    <tr>\n",
       "      <th>1</th>\n",
       "      <td>-122.22</td>\n",
       "      <td>37.86</td>\n",
       "      <td>21.0</td>\n",
       "      <td>7099.0</td>\n",
       "      <td>1106.0</td>\n",
       "      <td>2401.0</td>\n",
       "      <td>1138.0</td>\n",
       "      <td>8.3014</td>\n",
       "      <td>358500.0</td>\n",
       "      <td>NEAR BAY</td>\n",
       "    </tr>\n",
       "    <tr>\n",
       "      <th>2</th>\n",
       "      <td>-122.24</td>\n",
       "      <td>37.85</td>\n",
       "      <td>52.0</td>\n",
       "      <td>1467.0</td>\n",
       "      <td>190.0</td>\n",
       "      <td>496.0</td>\n",
       "      <td>177.0</td>\n",
       "      <td>7.2574</td>\n",
       "      <td>352100.0</td>\n",
       "      <td>NEAR BAY</td>\n",
       "    </tr>\n",
       "    <tr>\n",
       "      <th>3</th>\n",
       "      <td>-122.25</td>\n",
       "      <td>37.85</td>\n",
       "      <td>52.0</td>\n",
       "      <td>1274.0</td>\n",
       "      <td>235.0</td>\n",
       "      <td>558.0</td>\n",
       "      <td>219.0</td>\n",
       "      <td>5.6431</td>\n",
       "      <td>341300.0</td>\n",
       "      <td>NEAR BAY</td>\n",
       "    </tr>\n",
       "    <tr>\n",
       "      <th>4</th>\n",
       "      <td>-122.25</td>\n",
       "      <td>37.85</td>\n",
       "      <td>52.0</td>\n",
       "      <td>1627.0</td>\n",
       "      <td>280.0</td>\n",
       "      <td>565.0</td>\n",
       "      <td>259.0</td>\n",
       "      <td>3.8462</td>\n",
       "      <td>342200.0</td>\n",
       "      <td>NEAR BAY</td>\n",
       "    </tr>\n",
       "  </tbody>\n",
       "</table>\n",
       "</div>"
      ],
      "text/plain": [
       "   longitude  latitude  housing_median_age  total_rooms  total_bedrooms  \\\n",
       "0    -122.23     37.88                41.0        880.0           129.0   \n",
       "1    -122.22     37.86                21.0       7099.0          1106.0   \n",
       "2    -122.24     37.85                52.0       1467.0           190.0   \n",
       "3    -122.25     37.85                52.0       1274.0           235.0   \n",
       "4    -122.25     37.85                52.0       1627.0           280.0   \n",
       "\n",
       "   population  households  median_income  median_house_value ocean_proximity  \n",
       "0       322.0       126.0         8.3252            452600.0        NEAR BAY  \n",
       "1      2401.0      1138.0         8.3014            358500.0        NEAR BAY  \n",
       "2       496.0       177.0         7.2574            352100.0        NEAR BAY  \n",
       "3       558.0       219.0         5.6431            341300.0        NEAR BAY  \n",
       "4       565.0       259.0         3.8462            342200.0        NEAR BAY  "
      ]
     },
     "execution_count": 6,
     "metadata": {},
     "output_type": "execute_result"
    }
   ],
   "source": [
    "readFile.head()"
   ]
  },
  {
   "cell_type": "code",
   "execution_count": 7,
   "metadata": {},
   "outputs": [
    {
     "data": {
      "text/plain": [
       "Text(0, 0.5, 'House Value')"
      ]
     },
     "execution_count": 7,
     "metadata": {},
     "output_type": "execute_result"
    },
    {
     "data": {
      "image/png": "[encoded data removed]",
      "text/plain": [
       "<Figure size 432x288 with 1 Axes>"
      ]
     },
     "metadata": {
      "needs_background": "light"
     },
     "output_type": "display_data"
    }
   ],
   "source": [
    "plt.scatter(readFile.median_income, readFile.median_house_value, s=1)\n",
    "plt.xlabel('Income')\n",
    "plt.ylabel('House Value')"
   ]
  },
  {
   "cell_type": "code",
   "execution_count": 11,
   "metadata": {},
   "outputs": [],
   "source": [
    "#should probably remove liablities in house 500k house value\n",
    "mIncome = Average(readFile.median_income)\n",
    "SDIncome = spread(readFile.median_income)\n",
    "VarIncome = varians(readFile.median_income)\n",
    "\n",
    "mValue = Average(readFile.median_house_value)\n",
    "SDValue = spread(readFile.median_house_value)\n",
    "VarValue = varians(readFile.median_house_value)\n"
   ]
  },
  {
   "cell_type": "code",
   "execution_count": null,
   "metadata": {},
   "outputs": [],
   "source": [
    "# probably should group people up income groups and house value groups\n",
    "# and then find the correlation between those groups and plot it as a matrix group"
   ]
  },
  {
   "cell_type": "markdown",
   "metadata": {},
   "source": [
    "### Qe)\n",
    "What is the 5% and 95% percentages of median_house_value? (i.e. the limits for 5% lowest and highest). Also, plot the distribution of median_house_value.\n",
    "Comment on the realism of the max-value and 95% percentile - suggest a solution for this issue, if more realistic data was desired\n",
    "\n",
    "\n",
    "\n"
   ]
  },
  {
   "cell_type": "code",
   "execution_count": null,
   "metadata": {},
   "outputs": [],
   "source": []
  },
  {
   "cell_type": "code",
   "execution_count": null,
   "metadata": {},
   "outputs": [],
   "source": []
  },
  {
   "cell_type": "code",
   "execution_count": null,
   "metadata": {},
   "outputs": [],
   "source": []
  }
 ],
 "metadata": {
  "kernelspec": {
   "display_name": "Python 3",
   "language": "python",
   "name": "python3"
  },
  "language_info": {
   "codemirror_mode": {
    "name": "ipython",
    "version": 3
   },
   "file_extension": ".py",
   "mimetype": "text/x-python",
   "name": "python",
   "nbconvert_exporter": "python",
   "pygments_lexer": "ipython3",
   "version": "3.7.3"
  }
 },
 "nbformat": 4,
 "nbformat_minor": 2
}
