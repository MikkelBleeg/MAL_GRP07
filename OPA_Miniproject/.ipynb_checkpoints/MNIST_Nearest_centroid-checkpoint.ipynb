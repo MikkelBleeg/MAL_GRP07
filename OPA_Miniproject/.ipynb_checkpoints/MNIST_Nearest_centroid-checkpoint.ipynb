{
 "cells": [
  {
   "cell_type": "code",
   "execution_count": 4,
   "metadata": {},
   "outputs": [],
   "source": [
    "import numpy as np\n",
    "import pandas as pd\n",
    "from sklearn.datasets import fetch_openml\n",
    "from sklearn.neighbors import NearestCentroid\n",
    "import scipy.io as scip\n",
    "X, y = fetch_openml('mnist_784', version=1 ,return_X_y=True)\n",
    "\n",
    "n_neighbors = 15\n",
    "clf=NearestCentroid()\n",
    "clf.fit(X,y)\n",
    "\n",
    "y_pred = clf.predict(X)    "
   ]
  },
  {
   "cell_type": "code",
   "execution_count": null,
   "metadata": {},
   "outputs": [],
   "source": []
  }
 ],
 "metadata": {
  "kernelspec": {
   "display_name": "Python 3",
   "language": "python",
   "name": "python3"
  },
  "language_info": {
   "codemirror_mode": {
    "name": "ipython",
    "version": 3
   },
   "file_extension": ".py",
   "mimetype": "text/x-python",
   "name": "python",
   "nbconvert_exporter": "python",
   "pygments_lexer": "ipython3",
   "version": "3.8.3"
  }
 },
 "nbformat": 4,
 "nbformat_minor": 4
}
