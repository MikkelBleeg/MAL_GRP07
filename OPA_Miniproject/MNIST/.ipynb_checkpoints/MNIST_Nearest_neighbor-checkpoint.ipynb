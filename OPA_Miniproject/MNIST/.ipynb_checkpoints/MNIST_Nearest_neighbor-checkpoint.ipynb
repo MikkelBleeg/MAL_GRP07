{
 "cells": [
  {
   "cell_type": "markdown",
   "metadata": {},
   "source": [
    "Nearest Neighbor"
   ]
  },
  {
   "cell_type": "code",
   "execution_count": 1,
   "metadata": {},
   "outputs": [
    {
     "name": "stdout",
     "output_type": "stream",
     "text": [
      "Overall # of samples is 70000\n",
      "Size of the features is: (70000, 784)\n"
     ]
    }
   ],
   "source": [
    "import numpy as np\n",
    "import pandas as pd\n",
    "from time import time\n",
    "import matplotlib.pyplot as plt\n",
    "from matplotlib.colors import ListedColormap\n",
    "from sklearn.datasets import fetch_openml\n",
    "from sklearn.neighbors import KNeighborsClassifier\n",
    "from sklearn.metrics import classification_report \n",
    "from sklearn.model_selection import train_test_split \n",
    "import scipy.io as scip\n",
    "start = time()\n",
    "X, y = fetch_openml('mnist_784', version=1 ,return_X_y=True)\n",
    "t = time()-start\n",
    "\n",
    "print('Overall # of samples is', y.shape[0])\n",
    "print('Size of the features is:', X.shape)\n",
    " "
   ]
  },
  {
   "cell_type": "code",
   "execution_count": 2,
   "metadata": {},
   "outputs": [
    {
     "data": {
      "image/png": "[encoded data removed]",
      "text/plain": [
       "<Figure size 432x288 with 1 Axes>"
      ]
     },
     "metadata": {
      "needs_background": "light"
     },
     "output_type": "display_data"
    }
   ],
   "source": [
    "def show_digit(x_vec, label):\n",
    "    x_mat = x_vec.reshape(28, 28)\n",
    "    plt.imshow(x_mat)\n",
    "    plt.title('Label of this digit is: ' + label)\n",
    "    plt.show()\n",
    "\n",
    "show_digit(X[0], y[0])"
   ]
  },
  {
   "cell_type": "code",
   "execution_count": 3,
   "metadata": {},
   "outputs": [],
   "source": [
    "n_train = 60000\n",
    "n_test = 10000\n",
    "# split_loc = 60000 # train and test split at location of 60k\n",
    "\n",
    "# Splitting training and test data \n",
    "X_train, X_test, y_train, y_test = train_test_split(X, y, test_size = 0.2, shuffle = True, random_state = 0) \n",
    "# take 10% of the training data and use that for validation\n",
    "(trainData, valData, trainLabels, valLabels) = train_test_split(X_train, y_train,\n",
    "\ttest_size=0.1, random_state=84)"
   ]
  },
  {
   "cell_type": "code",
   "execution_count": 4,
   "metadata": {},
   "outputs": [
    {
     "name": "stdout",
     "output_type": "stream",
     "text": [
      "training data points: 56000\n",
      "validation data points: 14000\n",
      "testing data points: 14000\n"
     ]
    }
   ],
   "source": [
    "# show the sizes of each data split\n",
    "print(\"training data points: {}\".format(len(y_train)))\n",
    "print(\"validation data points: {}\".format(len(X_test)))\n",
    "print(\"testing data points: {}\".format(len(y_test)))"
   ]
  },
  {
   "cell_type": "code",
   "execution_count": 5,
   "metadata": {},
   "outputs": [],
   "source": [
    "# converting the above numpy arrays to pandas dataframe\n",
    "df_train = pd.DataFrame(X_train)\n",
    "df_test = pd.DataFrame(X_test)"
   ]
  },
  {
   "cell_type": "code",
   "execution_count": 6,
   "metadata": {},
   "outputs": [],
   "source": [
    "y_train_df = pd.DataFrame(data = y_train, columns = ['class'])\n",
    "y_test_df = pd.DataFrame(data = y_test, columns = ['class'])"
   ]
  },
  {
   "cell_type": "code",
   "execution_count": 7,
   "metadata": {},
   "outputs": [],
   "source": [
    "# calculate euclidean distance\n",
    "def dist(x,y):   \n",
    "    return np.sqrt(np.sum((x-y)**2))"
   ]
  },
  {
   "cell_type": "code",
   "execution_count": 8,
   "metadata": {},
   "outputs": [
    {
     "data": {
      "text/plain": [
       "KNeighborsClassifier(n_neighbors=1)"
      ]
     },
     "execution_count": 8,
     "metadata": {},
     "output_type": "execute_result"
    }
   ],
   "source": [
    "# Creating the Nearest Centroid Clissifier \n",
    "model = KNeighborsClassifier(n_neighbors=1)\n",
    "\n",
    "# Training the classifier \n",
    "model.fit(X_train, y_train.ravel()) "
   ]
  },
  {
   "cell_type": "code",
   "execution_count": 9,
   "metadata": {},
   "outputs": [
    {
     "name": "stdout",
     "output_type": "stream",
     "text": [
      "k=1, accuracy=100.00%\n"
     ]
    }
   ],
   "source": [
    "# evaluate the model and update the accuracies list\n",
    "score = model.score(valData, valLabels)\n",
    "print(\"k=%d, accuracy=%.2f%%\" % (1, score * 100))\n",
    "# accuracies.append(score)\n",
    " \n",
    "# # find the value of k that has the largest accuracy\n",
    "# i = int(np.argmax(accuracies))\n",
    "# print(\"k=%d achieved highest accuracy of %.2f%% on validation data\" % (1,\n",
    "# accuracies * 100))"
   ]
  },
  {
   "cell_type": "markdown",
   "metadata": {},
   "source": [
    "Training for multiple \"K\" of nearest neighbor\n"
   ]
  },
  {
   "cell_type": "code",
   "execution_count": 14,
   "metadata": {},
   "outputs": [
    {
     "name": "stdout",
     "output_type": "stream",
     "text": [
      "k=1, accuracy=97.14%\n",
      "k=3, accuracy=97.39%\n",
      "k=5, accuracy=97.12%\n",
      "k=7, accuracy=96.98%\n",
      "k=9, accuracy=96.82%\n",
      "k=11, accuracy=96.70%\n",
      "k=13, accuracy=96.46%\n",
      "k=15, accuracy=96.30%\n",
      "k=17, accuracy=96.29%\n",
      "k=19, accuracy=96.20%\n",
      "k=21, accuracy=96.12%\n",
      "k=23, accuracy=95.98%\n",
      "k=25, accuracy=96.00%\n",
      "k=27, accuracy=95.91%\n",
      "k=29, accuracy=95.80%\n",
      "k=5 achieved highest accuracy of 97.39% on validation data\n"
     ]
    }
   ],
   "source": [
    "kVals = range(1, 30, 4)\n",
    "accuracies = []\n",
    " \n",
    "# loop over various values of `k` for the k-Nearest Neighbor classifier\n",
    "for k in range(1, 30, 2):\n",
    "\t# train the k-Nearest Neighbor classifier with the current value of `k`\n",
    "\tmodel = KNeighborsClassifier(n_neighbors=k)\n",
    "\tmodel.fit(trainData, trainLabels)\n",
    " \n",
    "\t# evaluate the model and update the accuracies list\n",
    "\tscore = model.score(valData, valLabels)\n",
    "\tprint(\"k=%d, accuracy=%.2f%%\" % (k, score * 100))\n",
    "\taccuracies.append(score)\n",
    " \n",
    "# find the value of k that has the largest accuracy\n",
    "i = int(np.argmax(accuracies))\n",
    "print(\"k=%d achieved highest accuracy of %.2f%% on validation data\" % (kVals[i],\n",
    "\taccuracies[i] * 100))\n"
   ]
  },
  {
   "cell_type": "code",
   "execution_count": null,
   "metadata": {},
   "outputs": [],
   "source": []
  }
 ],
 "metadata": {
  "kernelspec": {
   "display_name": "Python 3",
   "language": "python",
   "name": "python3"
  },
  "language_info": {
   "codemirror_mode": {
    "name": "ipython",
    "version": 3
   },
   "file_extension": ".py",
   "mimetype": "text/x-python",
   "name": "python",
   "nbconvert_exporter": "python",
   "pygments_lexer": "ipython3",
   "version": "3.7.7"
  }
 },
 "nbformat": 4,
 "nbformat_minor": 4
}
