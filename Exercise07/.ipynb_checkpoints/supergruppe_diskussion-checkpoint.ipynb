{
 "cells": [
  {
   "cell_type": "markdown",
   "metadata": {},
   "source": [
    "# Supergruppe diskussion\n",
    "\n",
    "## § 2 \"End-to-End Machine Learning Project\" [HOML]\n",
    "\n",
    "Genlæs kapitel (eksklusiv\"Create the Workspace\" og \"Download the Data\"), og forbered mundtlig præsentation.\n",
    "\n",
    "Lav et kort resume af de enkelte underafsnit, ca. 5 til 20 liners tekst.\n",
    "\n",
    "Husk at relater til \"The Map\":\n",
    "\n",
    "<img src=\"https://itundervisning.ase.au.dk/E19_itmal/L07/Figs/ml_supervised_map.png\" style=\"width:400px\">\n",
    "\n",
    "Kapitler (incl. underkapitler):\n",
    "\n",
    "* Look at the Big Picture\n",
    "* Get the Data (eksklusiv Create the Workspace og Download the Data),\n",
    "* Discover and Visualize the Data to Gain Insights,\n",
    "* Prepare the Data for Machine Learning Algorithms,\n",
    "* Select and Train a Model,\n",
    "* Fine-Tune Your Model,\n",
    "* Launch, Monitor, and Maintain Your System,\n",
    "* Try It Out!."
   ]
  },
  {
   "cell_type": "markdown",
   "metadata": {},
   "source": [
    "#### Resume: Look at the Big Picture\n",
    "\n",
    "Setting up the frame for the mashine learning project and building a model.\n",
    "\n",
    "Background Research:\n",
    "- What is the end goal?\n",
    "- Which algorithms do we use?\n",
    "- Which preformance messures will be used to evaluate?\n",
    "- Do we already have a solution? if how should we improve it?\n",
    "\n",
    "##### Framing the problem:\n",
    "Deside on Algorithms: \n",
    "- Supervised learning\n",
    "- Unsupervised learning\n",
    "- Reinforced learning\n",
    "\n",
    "Deside on preformance messure:\n",
    "- RMSE (messuring standart deviation)\n",
    "- MAE\n",
    "\n",
    "\n",
    "\n",
    "#### Resume: Get the Data (eksklusiv Create the Workspace og Download the Data)\n",
    "\n",
    "Get data and create a workspace:\n",
    "- Install a editor and set up the workspace.\n",
    "- Download data and load it into into the workspace.\n",
    "\n",
    "Get a overview of the data:\n",
    "- What is the structure?\n",
    "- How many sampels?\n",
    "- How many and what are the Features (Atributes)?\n",
    "- Use diffrent meathods to create a overview:\n",
    "  - Use info() method to get quick information about the dataset.\n",
    "  - Use descripe() method to show a summary of the attributes.\n",
    "  - Use hist() to make a histogram over the dataset.\n",
    "    - What does the histogram tell about the data?  \n",
    "    - Look at the median.\n",
    "    - Look at the tails:\n",
    "\n",
    "Split the data into test and train sets:\n",
    "- Test set:\n",
    "  - 20% of the dataset should be split into the test set. So that the we dont test the algorithm on the same data as the one we trained it with.\n",
    "  - Make sure that the data in test isn't loadet into the train set by using ```random.seed(42)``` and then ```np.random.permutation```  so that it is always the same random data that is saved in test.\n",
    "  \n",
    "\n",
    "\n",
    "\n",
    "#### Resume: Discover and Visualize the Data to Gain Insights,\n",
    "\n",
    "TODO resume..\n",
    "\n",
    "#### Resume: Prepare the Data for Machine Learning Algorithms\n",
    "\n",
    "TODO resume..\n",
    "\n",
    "#### Resume: Select and Train a Model\n",
    "\n",
    "TODO resume..\n",
    "\n",
    "#### Resume: Fine-Tune Your Model\n",
    "\n",
    "TODO resume..\n",
    "\n",
    "#### Resume: Launch, Monitor, and Maintain Your System\n",
    "\n",
    "TODO resume..\n",
    "\n",
    "#### Resume: Try It Out!.\n",
    "\n",
    "TODO resume.."
   ]
  }
 ],
 "metadata": {
  "kernelspec": {
   "display_name": "Python 3",
   "language": "python",
   "name": "python3"
  },
  "language_info": {
   "codemirror_mode": {
    "name": "ipython",
    "version": 3
   },
   "file_extension": ".py",
   "mimetype": "text/x-python",
   "name": "python",
   "nbconvert_exporter": "python",
   "pygments_lexer": "ipython3",
   "version": "3.7.3"
  },
  "varInspector": {
   "cols": {
    "lenName": 16,
    "lenType": 16,
    "lenVar": 40
   },
   "kernels_config": {
    "python": {
     "delete_cmd_postfix": "",
     "delete_cmd_prefix": "del ",
     "library": "var_list.py",
     "varRefreshCmd": "print(var_dic_list())"
    },
    "r": {
     "delete_cmd_postfix": ") ",
     "delete_cmd_prefix": "rm(",
     "library": "var_list.r",
     "varRefreshCmd": "cat(var_dic_list()) "
    }
   },
   "types_to_exclude": [
    "module",
    "function",
    "builtin_function_or_method",
    "instance",
    "_Feature"
   ],
   "window_display": false
  }
 },
 "nbformat": 4,
 "nbformat_minor": 2
}
